{
 "cells": [
  {
   "cell_type": "code",
   "execution_count": 21,
   "id": "47d47391",
   "metadata": {},
   "outputs": [],
   "source": [
    "# Import libraries\n",
    "import pandas as pd\n",
    "from bs4 import BeautifulSoup\n",
    "import matplotlib.pyplot as plt\n",
    "from urllib.request import urlopen\n",
    "from urllib.request import Request\n",
    "from nltk.sentiment.vader import SentimentIntensityAnalyzer\n",
    "import tensorflow as tf\n",
    "\n",
    "# Parameters \n",
    "n = 3 #the # of article headlines displayed per ticker\n",
    "tickers = ['AAPL', 'TSLA', 'GOOG','WMT', 'CMG', 'XOM']"
   ]
  },
  {
   "cell_type": "code",
   "execution_count": 2,
   "id": "fa40cd20",
   "metadata": {},
   "outputs": [
    {
     "name": "stdout",
     "output_type": "stream",
     "text": [
      "\n",
      "\n",
      "Recent News Headlines for AAPL: \n",
      "Encrypted chat app Signal reveals flaws in Cellebrite equipment ( Apr-21-21 04:28PM )\n",
      "Why analysts are bullish on Apple stock ( 04:09PM )\n",
      "Apples iPad Pro is making its own laptops obsolete ( 03:55PM )\n",
      "\n",
      "\n",
      "Recent News Headlines for TSLA: \n",
      "ARK Invest Stocks To Buy And Watch: 6 Stocks That Cathie Wood's ARK ETFs Own; Tesla Races Higher ( Apr-21-21 04:01PM )\n",
      "Is GM Stock A Buy? General Motors Delivers Self-Driving, EV Surprises ( 03:36PM )\n",
      "Dow Rallies 200 Points As Netflix Plunges On Earnings; Apple, Tesla Reverse Higher ( 01:34PM )\n",
      "\n",
      "\n",
      "Recent News Headlines for GOOG: \n",
      "Small businesses 'had to become digital' amid COVID-19: Facebook VP ( Apr-21-21 04:25PM )\n",
      "Why analysts are bullish on Apple stock ( 04:09PM )\n",
      "Daily Mail publisher accuses Google of manipulating search results and rigging online ad auctions ( 04:00PM )\n",
      "\n",
      "\n",
      "Recent News Headlines for WMT: \n",
      "Small businesses 'had to become digital' amid COVID-19: Facebook VP ( Apr-21-21 04:25PM )\n",
      "4 Dow Jones Stocks To Buy And Watch In April 2021: Apple Reverses Higher ( 01:36PM )\n",
      "The Zacks Analyst Blog Highlights: Walmart, Comcast, Broadcom, Sanofi and HSBC Holdings ( 07:07AM )\n",
      "\n",
      "\n",
      "Recent News Headlines for CMG: \n",
      "Chipotle up following earnings beat ( Apr-21-21 04:36PM )\n",
      "Chipotle Stock Rises As Earnings Beat, Comp Sales To Accelerate ( 04:25PM )\n",
      "Chipotles Q1 sales rise 20%, spurred by online orders ( 04:23PM )\n",
      "\n",
      "\n",
      "Recent News Headlines for XOM: \n",
      "The war on Big Oil has begun ( Apr-21-21 03:12PM )\n",
      "Will Big Oils Huge Carbon Capture Bet Pay Off? ( 02:00PM )\n",
      "Can Mozambique Defend Its Crucial Gas Assets? ( 01:00PM )\n"
     ]
    }
   ],
   "source": [
    "# Scrape Data from FinViz using BeautifulSoup\n",
    "finviz_url = 'https://finviz.com/quote.ashx?t='\n",
    "news_tables = {} #create empty dictionary\n",
    "\n",
    "for ticker in tickers:\n",
    "    url = finviz_url + ticker\n",
    "    req = Request(url=url,headers={'user-agent': 'my-app/0.0.1'}) #request data from the URL #header allows us to have access\n",
    "    response = urlopen(req)    #beautiful soup can take this in and parse data out of\n",
    "    html = BeautifulSoup(response, features=\"lxml\") #pass the response through Beautiful Soup\n",
    "    news_table = html.find(id='news-table') #all articles are located in a table- see id in HTML code from website\n",
    "    news_tables[ticker] = news_table #ticker is the key to the dictionary \n",
    "\n",
    "try:\n",
    "    for ticker in tickers:\n",
    "        df = news_tables[ticker]\n",
    "        df_tr = df.findAll('tr')\n",
    "    \n",
    "        print ('\\n')\n",
    "        print ('Recent News Headlines for {}: '.format(ticker))\n",
    "        \n",
    "        for i, table_row in enumerate(df_tr):\n",
    "            a_text = table_row.a.text\n",
    "            td_text = table_row.td.text\n",
    "            td_text = td_text.strip()\n",
    "            print(a_text,'(',td_text,')')\n",
    "            if i == n-1:\n",
    "                break\n",
    "except KeyError:\n",
    "    pass"
   ]
  },
  {
   "cell_type": "code",
   "execution_count": 3,
   "id": "5a2153c6",
   "metadata": {},
   "outputs": [
    {
     "name": "stdout",
     "output_type": "stream",
     "text": [
      "[['AAPL', 'Apr-21-21', '04:28PM', 'Encrypted chat app Signal reveals flaws in Cellebrite equipment'], ['AAPL', 'Apr-21-21', '04:09PM', 'Why analysts are bullish on Apple stock'], ['AAPL', 'Apr-21-21', '03:55PM', 'Apples iPad Pro is making its own laptops obsolete'], ['AAPL', 'Apr-21-21', '03:51PM', 'Spotify, Match Tell Senate Apple Is Abusing Power in App Store'], ['AAPL', 'Apr-21-21', '03:45PM', 'Senate hearing on app stores puts Apple, Google under regulatory spotlight'], ['AAPL', 'Apr-21-21', '02:21PM', \"UPDATE 1-Facebook tweaks ad tools ahead of Apple's privacy changes\"], ['AAPL', 'Apr-21-21', '02:17PM', 'FTC Nominee Khan Calls for More Scrutiny of Tech Giants Power'], ['AAPL', 'Apr-21-21', '02:03PM', 'UPDATE 1-Epic CEO, Apple App Store chief to attend antitrust trial starting May 3'], ['AAPL', 'Apr-21-21', '01:39PM', 'Dow Jones Rallies 230 Points As Stock Market Rebounds, But Netflix Gets Slammed'], ['AAPL', 'Apr-21-21', '01:36PM', '4 Dow Jones Stocks To Buy And Watch In April 2021: Apple Reverses Higher'], ['AAPL', 'Apr-21-21', '01:34PM', 'Dow Rallies 200 Points As Netflix Plunges On Earnings; Apple, Tesla Reverse Higher'], ['AAPL', 'Apr-21-21', '01:32PM', \"UPDATE 1-Top antitrust U.S. senator to examine Apple's AirTag announcement\"], ['AAPL', 'Apr-21-21', '01:28PM', \"Facebook tweaks ad tools ahead of Apple's privacy changes\"], ['AAPL', 'Apr-21-21', '12:34PM', 'Apple (AAPL) Reports Next Week: Wall Street Expects Earnings Growth'], ['AAPL', 'Apr-21-21', '12:31PM', 'Epic CEO, Apple App Store chief to attend antitrust trial starting May 3'], ['AAPL', 'Apr-21-21', '11:43AM', 'Its going to be challenging for other vendors to compete with Apples M1 chip: TECHnalysis Research'], ['AAPL', 'Apr-21-21', '11:24AM', 'Apple Introduces Slate of Updated and New Products'], ['AAPL', 'Apr-21-21', '11:14AM', 'Apple supplier Quanta says no business impact from ransomware attack'], ['AAPL', 'Apr-21-21', '11:06AM', \"Top antitrust U.S. senator says Apple's AirTags news is 'timely'\"], ['AAPL', 'Apr-21-21', '11:06AM', 'Apple supplier Quanta says no business impact from ransomware attack'], ['AAPL', 'Apr-21-21', '10:55AM', \"Top antitrust U.S. senator says Apple's AirTags news is 'timely'\"], ['AAPL', 'Apr-21-21', '10:20AM', '10 best tablets for drawing, gaming and films'], ['AAPL', 'Apr-21-21', '10:16AM', 'Best mobile phone deals in the UK for April 2021: Sales on iPhone, Samsung, Google Pixel and more'], ['AAPL', 'Apr-21-21', '10:10AM', \"Why consumers will eat up Apple's new products\"], ['AAPL', 'Apr-21-21', '09:55AM', 'Apple (AAPL) Unveils New iPad, iMac, AirTags, TV 4K & More'], ['AAPL', 'Apr-21-21', '09:35AM', \"Derek Chauvin verdict sparks response from corporate America: 'Radical changes' still needed\"], ['AAPL', 'Apr-21-21', '09:29AM', 'Wednesdays Pre-Market: Heres What You Need To Know Before The Market Opens'], ['AAPL', 'Apr-21-21', '08:52AM', 'Better Semiconductor Stock: ASML vs. TSMC'], ['AAPL', 'Apr-21-21', '08:17AM', 'Dow Jones Futures: Netflix Dives On Subscriber Miss, Chip Giant ASML Rallies After Market Retreat Slams Leaders'], ['AAPL', 'Apr-21-21', '07:32AM', 'What Is Shopify Doing With Its $6 Billion in Cash?'], ['AAPL', 'Apr-21-21', '07:02AM', 'Netflix stock craters after subscriber miss  is now a great time to buy?'], ['AAPL', 'Apr-21-21', '06:28AM', 'Apple Introduces New Products At Virtual Event'], ['AAPL', 'Apr-21-21', '06:00AM', 'Facebook has a lot more work to do to bring non-white people into leadership positions: Carolyn Everson'], ['AAPL', 'Apr-21-21', '03:57AM', 'What is Apple AirTag? Small tracking tile launched for iPhone users'], ['AAPL', 'Apr-21-21', '03:43AM', 'Rampant Virus, Geopolitical Conflicts, Semi and Bank Stocks, Apple, Netflix, Ark'], ['AAPL', 'Apr-21-21', '03:05AM', 'Apple event as it happened: New iPad Pro, iMac, AirTags and more unveiled at Spring Loaded launch'], ['AAPL', 'Apr-21-21', '02:30AM', 'Apple Targeted in $50 Million Ransomware Hack of Supplier Quanta'], ['AAPL', 'Apr-21-21', '02:24AM', 'iOS 14.5: Major and controversial new iPhone update release date coming next week, Apple says'], ['AAPL', 'Apr-21-21', '01:14AM', 'Netflix, Chipotle, Apple, Manchester United - 5 Things You Must Know'], ['AAPL', 'Apr-21-21', '12:13AM', 'Investing in Apple Stock (AAPL)'], ['AAPL', 'Apr-20-21', '11:13PM', 'Apple Making Progressive Movements in Product Lines: IDC'], ['AAPL', 'Apr-20-21', '07:02PM', 'Were Hedge Funds Right About Piling Into Apple Inc. (AAPL)?'], ['AAPL', 'Apr-20-21', '06:25PM', 'An Apple Event for These Pandemic Times'], ['AAPL', 'Apr-20-21', '05:45PM', 'Apple (AAPL) Dips More Than Broader Markets: What You Should Know'], ['AAPL', 'Apr-20-21', '05:11PM', 'Apple unveils £29 AirTag tracking devices to find lost keys'], ['AAPL', 'Apr-20-21', '04:40PM', 'Netflix is still very much in play and ahead of the game: Santosh Rao'], ['AAPL', 'Apr-20-21', '04:36PM', 'Apple Debuts Faster iPad Pro With Brighter Screen and 5G Option'], ['AAPL', 'Apr-20-21', '04:35PM', 'Stock Market Today: Investors Head for Safety Amid Another Selloff'], ['AAPL', 'Apr-20-21', '04:26PM', 'Apple Launching New iMac That Starts at $1,299'], ['AAPL', 'Apr-20-21', '04:11PM', 'Apples Big Crackdown on Digital Ad Tracking Hits Next Week'], ['AAPL', 'Apr-20-21', '04:08PM', 'Apple Debuts AirTags Item Trackers, New iMacs, iPads At Spring Product Launch'], ['AAPL', 'Apr-20-21', '04:05PM', 'Apple event: New iPad, iPhone colour, Apple TV, iMac and everything else announced during live launch video'], ['AAPL', 'Apr-20-21', '04:00PM', 'New iPad Pro: Apple brings its M1 chip to its tablet during live event'], ['AAPL', 'Apr-20-21', '03:44PM', 'New iMac: Apple reveals colourful new desktop computers with its own chips inside'], ['AAPL', 'Apr-20-21', '03:28PM', 'Apple launches paid-for podcast subscription service'], ['AAPL', 'Apr-20-21', '03:05PM', 'Dow Jones Slumps 300 Points, But IBM Flashes Buy Signal; Apple Debuts New iMacs, iPad Pro Tablets'], ['AAPL', 'Apr-20-21', '03:05PM', 'Apples M1 chip is where everything is going for the company: Analyst'], ['AAPL', 'Apr-20-21', '02:56PM', 'Apple reveals new products'], ['AAPL', 'Apr-20-21', '02:56PM', 'This chart shows the deluge of corporate spending on technology since 1980'], ['AAPL', 'Apr-20-21', '02:55PM', 'Apple Launches Redesigned iMac Desktop With Colors, Custom Chip'], ['AAPL', 'Apr-20-21', '02:47PM', 'Apple debuts Apple TV 4K with improved remote, color balancing feature'], ['AAPL', 'Apr-20-21', '02:44PM', 'Apple puts its custom chips into colorful new iMacs, upgraded iPad Pro'], ['AAPL', 'Apr-20-21', '02:12PM', 'Apple Just Announced a New iPad, iMac, and AppleTV. Its Stock Is Still Down.'], ['AAPL', 'Apr-20-21', '02:03PM', 'Apple debuts iPad Pro with high-powered M1 chip, high-end display'], ['AAPL', 'Apr-20-21', '01:58PM', 'Apple Introduces New iPad Pro Featuring Breakthrough M1 Chip, Ultra-Fast 5G, and Stunning 12.9-inch Liquid Retina XDR Display'], ['AAPL', 'Apr-20-21', '01:50PM', 'UPDATE 1-Apple goes to battle with Spotify in premium podcast push'], ['AAPL', 'Apr-20-21', '01:45PM', 'Apple debuts incredibly thin iMac with M1 chip'], ['AAPL', 'Apr-20-21', '01:36PM', 'All-New iMac Features Stunning Design in a Spectrum of Vibrant Colors, the Breakthrough M1 Chip, and a Brilliant 4.5K Retina Display'], ['AAPL', 'Apr-20-21', '01:27PM', 'Apple goes to battle with Spotify in premium podcast push'], ['AAPL', 'Apr-20-21', '01:21PM', 'Apple Launches $29 AirTag Gadget for Tracking Physical Items'], ['AAPL', 'Apr-20-21', '01:20PM', 'Apple Unveils the Next Generation of Apple TV 4K, Making the Best Device for Watching Shows and Movies Even Better'], ['AAPL', 'Apr-20-21', '01:18PM', 'Apple debuts AirTag for easily tracking your lost items like keys'], ['AAPL', 'Apr-20-21', '01:17PM', 'Apple Announces Paid Podcast Subscriptions to Rival Spotify'], ['AAPL', 'Apr-20-21', '01:17PM', 'Apple goes to battle with Spotify in premium podcast push'], ['AAPL', 'Apr-20-21', '01:11PM', 'Apple Introduces AirTag'], ['AAPL', 'Apr-20-21', '01:06PM', 'Apple Introduces iPhone 12 and iPhone 12 mini in a Stunning New Purple'], ['AAPL', 'Apr-20-21', '01:05PM', 'Apple Leads the Next Chapter of Podcasting With Apple Podcasts Subscriptions'], ['AAPL', 'Apr-20-21', '01:05PM', 'Apple Introduces Apple Card Family, Enabling People to Share Apple Card and Build Credit Together'], ['AAPL', 'Apr-20-21', '12:25PM', 'UPDATE 3-Apple announces AirTags for lost items, podcast subscriptions at iPad launch event'], ['AAPL', 'Apr-20-21', '12:25PM', 'Heres Why Apple Inc. (AAPL) Landed in Alger Spectras Top Detractor List'], ['AAPL', 'Apr-20-21', '12:20PM', 'How to watch the Apple event Spring Loaded'], ['AAPL', 'Apr-20-21', '12:10PM', 'Can Apple (AAPL) Keep the Earnings Surprise Streak Alive?'], ['AAPL', 'Apr-20-21', '12:08PM', 'Dow Jones Dives 300 Points Despite IBM, J&J Gains As Stock Market Gets Slammed'], ['AAPL', 'Apr-20-21', '12:07PM', 'What will be announced at todays Apple event? What we know so far'], ['AAPL', 'Apr-20-21', '12:02PM', \"Dow Jones Sells Off As Apple Slides Ahead Of 'Spring Loaded' Event; Tesla Jumps On Price Target Boost\"], ['AAPL', 'Apr-20-21', '11:57AM', 'Apple event live stream: How to watch launch as new iPad, iMac and more are rumoured'], ['AAPL', 'Apr-20-21', '11:55AM', 'What will be announced at todays Apple event? What we know so far'], ['AAPL', 'Apr-20-21', '11:49AM', 'When is the Apple event 2021?'], ['AAPL', 'Apr-20-21', '11:37AM', 'Apple event 2021: When is next launch, what will happen and how do I watch it?'], ['AAPL', 'Apr-20-21', '11:03AM', 'The best paid and free VPNs for iPhones, Android, laptops, and streaming'], ['AAPL', 'Apr-20-21', '10:12AM', 'Should you buy Apple stock? Here are the key numbers to look at now'], ['AAPL', 'Apr-20-21', '08:56AM', 'Its Time for Apples Virtual Event.  Heres What to Expect.'], ['AAPL', 'Apr-20-21', '08:37AM', 'Apple podcast service, tags for lost items expected at iPad launch event'], ['AAPL', 'Apr-20-21', '08:16AM', 'Better Buy: Apple vs. IBM'], ['AAPL', 'Apr-20-21', '08:16AM', 'Its Doge Day. What That Means for Dogecoin and Other Cryptocurrencies.'], ['AAPL', 'Apr-20-21', '07:26AM', 'Apple podcast service, tags for lost items expected at iPad launch event'], ['AAPL', 'Apr-20-21', '07:20AM', 'Apple podcast service, tags for lost items expected at iPad launch event'], ['AAPL', 'Apr-20-21', '07:15AM', '5G Stocks To Buy And Watch: Smartphones Rule Today But Enterprise Plays Will Kick In'], ['AAPL', 'Apr-20-21', '07:00AM', 'What Are FANG Stocks, And Should You Invest In Them?'], ['AAPL', 'Apr-20-21', '06:55AM', '8 best wireless printers to upgrade your home office set-up'], ['TSLA', 'Apr-21-21', '04:01PM', \"ARK Invest Stocks To Buy And Watch: 6 Stocks That Cathie Wood's ARK ETFs Own; Tesla Races Higher\"], ['TSLA', 'Apr-21-21', '03:36PM', 'Is GM Stock A Buy? General Motors Delivers Self-Driving, EV Surprises'], ['TSLA', 'Apr-21-21', '01:34PM', 'Dow Rallies 200 Points As Netflix Plunges On Earnings; Apple, Tesla Reverse Higher'], ['TSLA', 'Apr-21-21', '01:12PM', 'Tesla to report first-quarter earnings amid renewed concerns about its Autopilot'], ['TSLA', 'Apr-21-21', '12:34PM', 'Tesla comes under growing China pressure after customer complaint'], ['TSLA', 'Apr-21-21', '12:29PM', 'Is Dogecoin Still a Joke?'], ['TSLA', 'Apr-21-21', '11:36AM', 'Tesla Stock Is Underperforming. Has a Protest Hurt?'], ['TSLA', 'Apr-21-21', '11:12AM', 'UPDATE 2-Tesla comes under growing China pressure after customer complaint'], ['TSLA', 'Apr-21-21', '10:45AM', 'Audi Unveils A6 e-tron Electric Vehicle Concept Car'], ['TSLA', 'Apr-21-21', '10:44AM', 'Disrupters Like Tesla Get A Taste Of Their Own Medicine'], ['TSLA', 'Apr-21-21', '10:16AM', 'Tesla comes under growing China pressure after customer complaint'], ['TSLA', 'Apr-21-21', '10:09AM', 'Tesla apologies after customer protested at autoshow, says to share car data with Chinese regulator'], ['TSLA', 'Apr-21-21', '10:03AM', 'REFILE-AUTOSHOW-Tesla apologizes after customer protested at autoshow, to share car data with Chinese regulator'], ['TSLA', 'Apr-21-21', '09:28AM', 'Dogecoin boom is a retail phenomenon driven by Powell giving money to everybody, Novogratz says'], ['TSLA', 'Apr-21-21', '08:44AM', \"AUTOSHOW-Chinese woman's Tesla protest prompts 5-day detention, company apology\"], ['TSLA', 'Apr-21-21', '08:03AM', \"RPT-AUTOSHOW-Chinese woman's Tesla protest prompts 5-day detention, company apology\"], ['TSLA', 'Apr-21-21', '07:44AM', \"Things to Note Ahead of Tesla's (TSLA) Q1 Earnings Release\"], ['TSLA', 'Apr-21-21', '04:00AM', 'Should I Buy Tesla Stock? Everything You Need to Know About the EV Company.'], ['TSLA', 'Apr-21-21', '03:51AM', \"Dogecoin price crashes as 'Dogeday' hype fades\"], ['TSLA', 'Apr-20-21', '11:27PM', 'Tesla drives on Autopilot through a regulatory grey zone'], ['TSLA', 'Apr-20-21', '10:23PM', 'Tesla Apologizes to Chinese Customer'], ['TSLA', 'Apr-20-21', '08:04PM', 'Tesla first-quarter registrations in California fall marginally - data'], ['TSLA', 'Apr-20-21', '07:00PM', 'Trafigura Bets on Green-Nickel Squeeze in Defiance of China Cure'], ['TSLA', 'Apr-20-21', '05:41PM', 'Doctor named as one of victims in fatal Tesla crash in Texas'], ['TSLA', 'Apr-20-21', '05:06PM', 'Doctor named as one of victims in fatal Tesla crash in Texas'], ['TSLA', 'Apr-20-21', '03:59PM', 'Why Growth Stocks Rebound Doesnt Mean Values Comeback Is Over'], ['TSLA', 'Apr-20-21', '03:38PM', 'UPDATE 1-Dogecoin cryptocurrency slumps after hashtag-fueled surge to record high'], ['TSLA', 'Apr-20-21', '03:09PM', 'Tesla drives on Autopilot through a regulatory grey zone'], ['TSLA', 'Apr-20-21', '03:00PM', 'INSIGHT-Tesla drives on Autopilot through a regulatory grey zone'], ['TSLA', 'Apr-20-21', '01:19PM', \"Chip supply shortage won't end in 2021: AutoNation CEO\"], ['TSLA', 'Apr-20-21', '12:33PM', \"Tesla's biggest rival in China is all in on flying cars\"], ['TSLA', 'Apr-20-21', '12:19PM', \"Chinese woman's Tesla protest prompts 5-day detention, company apology\"], ['TSLA', 'Apr-20-21', '12:12PM', \"AUTOSHOW-Chinese woman's Tesla protest prompts 5-day detention, company apology\"], ['TSLA', 'Apr-20-21', '12:02PM', \"Dow Jones Sells Off As Apple Slides Ahead Of 'Spring Loaded' Event; Tesla Jumps On Price Target Boost\"], ['TSLA', 'Apr-20-21', '11:21AM', 'Tesla Will Be Probed For Vehicle Crash Data By Texas Police  Report'], ['TSLA', 'Apr-20-21', '10:42AM', 'Options Trading: Consider A Bull Put Spread For Tesla Stock Ahead Of Q1 Earnings Report'], ['TSLA', 'Apr-20-21', '10:02AM', 'Xpeng Pres. on autonomous driving: Keeping our customers safe is critical'], ['TSLA', 'Apr-20-21', '10:00AM', 'DogeDay hashtags help meme-based cryptocurrency Dogecoin hit new high'], ['TSLA', 'Apr-20-21', '10:00AM', 'White House National Climate Advisor aims to cut U.S. emissions'], ['TSLA', 'Apr-20-21', '09:51AM', 'DogeDay hashtags help meme-based cryptocurrency Dogecoin hit new high'], ['TSLA', 'Apr-20-21', '09:30AM', 'Tesla stock gets a price target boost ahead of earnings, as Mizuho analyst is upbeat on deliveries outlook'], ['TSLA', 'Apr-20-21', '08:57AM', 'Musk Says Autopilot Not Engaged in Tesla Crash'], ['TSLA', 'Apr-20-21', '08:21AM', \"Dow Jones Futures Signal Further Losses For 'Hard Penny' Market Rally; Netflix Near Buy With Earnings Due\"], ['TSLA', 'Apr-20-21', '08:19AM', \"China state media calls for regulator investigation in Tesla's brake issues\"], ['TSLA', 'Apr-20-21', '08:17AM', 'GLOBAL MARKETS-World stocks edge back as COVID-19 cases climb'], ['TSLA', 'Apr-20-21', '06:38AM', 'What is Dogeday 4/20?'], ['TSLA', 'Apr-20-21', '06:24AM', \"Tesla's US market share was 'probably close to peak' in 2020: Analyst\"], ['TSLA', 'Apr-20-21', '05:09AM', \"Crypto: Bitcoin and ethereum sink but Dogecoin rallies on 'Dogeday'\"], ['TSLA', 'Apr-20-21', '05:06AM', 'Dogecoin price: Fans of meme cryptocurrency hope to push value to 69 cents to celebrate #DogeDay420'], ['TSLA', 'Apr-20-21', '04:17AM', 'GLOBAL MARKETS-World stocks edge back, bond yields, COVID-19 cases rise'], ['TSLA', 'Apr-20-21', '03:53AM', 'Chinese woman who stormed Tesla display at car show detained for five days'], ['TSLA', 'Apr-20-21', '03:43AM', 'Elon Musk tweets that Autopilot had not been enabled as Tesla crash brings scrutiny'], ['TSLA', 'Apr-20-21', '02:07AM', 'YouTube bans ads on beauty influencer James Charles videos amid sexting scandal - live updates'], ['TSLA', 'Apr-20-21', '02:05AM', 'IBM, Netflix, Dogecoin, Tesla, 420 Day - 5 Things You Must Know'], ['TSLA', 'Apr-19-21', '08:37PM', 'Two die in driverless Tesla incident. Where are the regulators?'], ['TSLA', 'Apr-19-21', '06:19PM', 'Tesla Stock Up As Musk Says Autopilot, FSD Not Involved In Crash'], ['TSLA', 'Apr-19-21', '06:08PM', 'Tesla Vs. Nvidia: Which Stock Chart Looks Like The Better Buy?'], ['TSLA', 'Apr-19-21', '05:47PM', 'Its time to notice Teslas Autopilot death toll'], ['TSLA', 'Apr-19-21', '04:20PM', 'US STOCKS-Wall Street slips off record highs, Tesla drops after fatal crash'], ['TSLA', 'Apr-19-21', '04:07PM', 'Teslas Fiery Crash Adds to Drag on Already Wobbly EV Stocks'], ['TSLA', 'Apr-19-21', '04:01PM', 'US STOCKS-Wall Street slips off record highs, Tesla drops after fatal crash'], ['TSLA', 'Apr-19-21', '03:58PM', 'Its time to notice Teslas Autopilot death toll'], ['TSLA', 'Apr-19-21', '02:49PM', 'How Tesla could be impacted by the fatal crash in Texas'], ['TSLA', 'Apr-19-21', '02:06PM', 'US STOCKS-Wall Street slips from all-time peaks, Tesla drops after fatal crash'], ['TSLA', 'Apr-19-21', '01:33PM', 'Tesla crash investigation'], ['TSLA', 'Apr-19-21', '01:25PM', 'U.S. agencies probe fatal Tesla crash believed to be driverless'], ['TSLA', 'Apr-19-21', '12:30PM', 'Tesla (TSLA) Reports Next Week: Wall Street Expects Earnings Growth'], ['TSLA', 'Apr-19-21', '12:26PM', \"Dow Jones Slips As Boeing Weighs, But Coca-Cola Gains; Here's Why GameStop Is Soaring\"], ['TSLA', 'Apr-19-21', '12:19PM', 'US STOCKS-Wall Street slips from record levels; Tesla drops after fatal car crash'], ['TSLA', 'Apr-19-21', '11:52AM', 'U.S. agencies probe fatal Tesla crash believed to be driverless'], ['TSLA', 'Apr-19-21', '11:32AM', 'UPDATE 3-U.S. agencies probe fatal Tesla crash believed to be driverless'], ['TSLA', 'Apr-19-21', '11:28AM', 'Why Tesla Stock Dropped on Monday'], ['TSLA', 'Apr-19-21', '10:56AM', 'Tesla Drags Nasdaq Lower on Crash; NVIDIA Buy Faces Regulatory Challenge'], ['TSLA', 'Apr-19-21', '10:45AM', 'Dow Jones Slips As Coca-Cola Passes Buy; Tesla Down After Deadly Crash; GameStop CEO Quits'], ['TSLA', 'Apr-19-21', '10:29AM', 'Dow Jones, S&P 500 Ease From Record Highs; Coca-Cola Rises On Earnings; Nvidia, Tesla Stock Drag On Nasdaq'], ['TSLA', 'Apr-19-21', '10:26AM', 'US STOCKS-S&P 500, Dow slip from record highs; Coca-Cola rises on results'], ['TSLA', 'Apr-19-21', '10:21AM', 'Tesla Stock Falls After Potential Autopilot Crash'], ['TSLA', 'Apr-19-21', '10:13AM', 'Tesla autopilot car crash leaves two men dead'], ['TSLA', 'Apr-19-21', '09:44AM', 'Tesla With No One Driving Crashes in Texas, Killing Two'], ['TSLA', 'Apr-19-21', '09:14AM', \"Tesla's stock drops after reports of fatal crash of vehicle with apparently no driver\"], ['TSLA', 'Apr-19-21', '08:20AM', 'Dow Jones Futures Fall, Bitcoin Slumps As Stock Market Rally Enters Power Trend; Square, Apple, Tesla In Focus'], ['TSLA', 'Apr-19-21', '08:00AM', 'How Investors Maxed Out Gains From This Record $22 Trillion Rally'], ['TSLA', 'Apr-19-21', '05:25AM', '15 Best Stocks in the Past Week: Novavax, Moderna Surge Higher'], ['TSLA', 'Apr-19-21', '04:16AM', 'Chinas $87 Billion Electric-Car Giant Hasnt Sold a Vehicle Yet'], ['TSLA', 'Apr-19-21', '04:14AM', 'Cryptocurrency prices stabilise after wild weekend'], ['TSLA', 'Apr-19-21', '03:25AM', 'Bitcoin and Other Cryptocurrencies Stabilize After Weekend Rout'], ['TSLA', 'Apr-18-21', '08:00PM', 'Further reading'], ['TSLA', 'Apr-18-21', '06:35PM', 'Tesla Settles Lawsuit With Ex-Employee Over Autopilot Source Code'], ['TSLA', 'Apr-18-21', '06:00PM', 'How To Play The $2.6 Trillion Clean Energy Investment Boom'], ['TSLA', 'Apr-18-21', '05:03PM', \"Analysis-China's green car credit scheme turns up heat on carbon-emitters\"], ['TSLA', 'Apr-18-21', '03:52PM', \"Two die after Tesla crashes with 'no one driving'\"], ['TSLA', 'Apr-18-21', '03:24PM', 'Tesla Crash In Texas Leads To 2 Deaths And Fire That Took 4 Hours To Extinguish'], ['TSLA', 'Apr-18-21', '03:03PM', 'UPDATE 2-Two dead in Tesla crash in Texas that was believed to be driverless'], ['TSLA', 'Apr-18-21', '02:58PM', 'Two dead in Tesla crash in Texas that was believed to be driverless'], ['TSLA', 'Apr-18-21', '02:13PM', 'Two dead in Tesla crash in Texas that was believed to be driverless - WSJ'], ['TSLA', 'Apr-18-21', '07:00AM', 'Elon Musk and Snoop Dogg Love Dogecoin. Should You?'], ['TSLA', 'Apr-18-21', '05:49AM', 'Bitcoin and crypto markets crash on US crackdown reports'], ['TSLA', 'Apr-17-21', '02:46PM', \"Benzinga's Bulls And Bears Of The Week: Alphabet, Coinbase, GE, Quantumscape, Tesla And More\"], ['TSLA', 'Apr-17-21', '02:25PM', 'Ark Funds Add More Coinbase, Offload Some Tesla'], ['TSLA', 'Apr-17-21', '08:30AM', 'Autonomous Driving Is Closer Than You Think. But Not Because of Tesla.'], ['GOOG', 'Apr-21-21', '04:25PM', \"Small businesses 'had to become digital' amid COVID-19: Facebook VP\"], ['GOOG', 'Apr-21-21', '04:09PM', 'Why analysts are bullish on Apple stock'], ['GOOG', 'Apr-21-21', '04:00PM', 'Daily Mail publisher accuses Google of manipulating search results and rigging online ad auctions'], ['GOOG', 'Apr-21-21', '03:51PM', 'Spotify, Match Tell Senate Apple Is Abusing Power in App Store'], ['GOOG', 'Apr-21-21', '03:45PM', 'Senate hearing on app stores puts Apple, Google under regulatory spotlight'], ['GOOG', 'Apr-21-21', '02:17PM', 'FTC Nominee Khan Calls for More Scrutiny of Tech Giants Power'], ['GOOG', 'Apr-21-21', '12:40PM', 'UiPath Rises in Trading Debut After $1.3 Billion Software IPO'], ['GOOG', 'Apr-21-21', '11:51AM', 'Google Turmoil Exposes Cracks Long in Making for Top AI Watchdog'], ['GOOG', 'Apr-21-21', '11:34AM', 'These Are The Best Robinhood Stocks To Buy Or Watch Now'], ['GOOG', 'Apr-21-21', '11:11AM', 'Alphabet Shares Should Continue to Live Higher'], ['GOOG', 'Apr-21-21', '11:06AM', 'U.S. senators question Apple and Google on app store dominance'], ['GOOG', 'Apr-21-21', '10:55AM', \"Top antitrust U.S. senator says Apple's AirTags news is 'timely'\"], ['GOOG', 'Apr-21-21', '10:23AM', \"What's in the Offing for Alphabet's (GOOGL) Q1 Earnings?\"], ['GOOG', 'Apr-21-21', '10:16AM', 'Best mobile phone deals in the UK for April 2021: Sales on iPhone, Samsung, Google Pixel and more'], ['GOOG', 'Apr-21-21', '09:07AM', \"UK enjoying 'roaring' comeback as economy reopens\"], ['GOOG', 'Apr-21-21', '08:37AM', \"Israel picks Amazon's AWS, Google for flagship cloud project\"], ['GOOG', 'Apr-21-21', '08:22AM', \"Israel picks Amazon's AWS, Google for flagship cloud project\"], ['GOOG', 'Apr-21-21', '07:52AM', 'The Big Tech Stocks Could Fall, if History Is Any Guide'], ['GOOG', 'Apr-21-21', '06:25AM', '3 Cheap Cathie Wood Stocks to Buy Right Now'], ['GOOG', 'Apr-21-21', '06:00AM', 'Facebook has a lot more work to do to bring non-white people into leadership positions: Carolyn Everson'], ['GOOG', 'Apr-21-21', '05:14AM', 'Daily Mail owner sues Google over search results'], ['GOOG', 'Apr-21-21', '04:18AM', 'Korea Web Giant Naver Mulls U.S. Bond, IPO to Take on Google'], ['GOOG', 'Apr-21-21', '02:30AM', 'Apple Targeted in $50 Million Ransomware Hack of Supplier Quanta'], ['GOOG', 'Apr-20-21', '07:01PM', \"'Click to dial' ads tricking customers on Google, Which? warns\"], ['GOOG', 'Apr-20-21', '05:45PM', 'Alphabet (GOOGL) Stock Moves -0.47%: What You Should Know'], ['GOOG', 'Apr-20-21', '04:06PM', 'Will Big-Tech Drive Indices to Record Highs in Q2?'], ['GOOG', 'Apr-20-21', '02:50PM', 'Daily Mail Owner Sues Google For Antitrust Practices Over Down Ranking UK Royal Family Coverage: WSJ'], ['GOOG', 'Apr-20-21', '02:04PM', 'Were Hedge Funds Right About Betting On Alphabet Inc (GOOGL)?'], ['GOOG', 'Apr-20-21', '02:03PM', 'Apple debuts iPad Pro with high-powered M1 chip, high-end display'], ['GOOG', 'Apr-20-21', '01:54PM', 'Daily Mail owner accuses Google of hiding Royals coverage as it files lawsuit'], ['GOOG', 'Apr-20-21', '01:25PM', 'Daily Mail owner sues Google for monopoly over ad business'], ['GOOG', 'Apr-20-21', '12:41PM', 'UPDATE 1-Daily Mail owner sues Google for monopoly over ad business'], ['GOOG', 'Apr-20-21', '11:15AM', 'Daily Mail owner sues Google for monopoly over ad business'], ['GOOG', 'Apr-20-21', '11:12AM', 'Daily Mail files antitrust lawsuit against Google'], ['GOOG', 'Apr-20-21', '10:30AM', \"Google, Apple To Testify At Senate's Antitrust Hearing With Spotify, Tile, Match As Witnesses\"], ['GOOG', 'Apr-20-21', '07:30AM', 'Why Coinbase Could Be the Google of Cryptocurrencies'], ['GOOG', 'Apr-20-21', '07:00AM', 'What Are FANG Stocks, And Should You Invest In Them?'], ['GOOG', 'Apr-20-21', '06:55AM', '8 best wireless printers to upgrade your home office set-up'], ['GOOG', 'Apr-20-21', '04:46AM', \"Morning Bell With Jim Cramer: Don't Buy the Dip in Peloton\"], ['GOOG', 'Apr-19-21', '08:00PM', 'UK, German and Australian regulators unify against Big Tech'], ['GOOG', 'Apr-19-21', '08:00PM', 'Daily Mail publisher launches lawsuit against Google'], ['GOOG', 'Apr-19-21', '06:32PM', 'Apple to Reinstate Parler; Google Offers Potential Return'], ['GOOG', 'Apr-19-21', '04:32PM', 'Senate to Call Spotify, Match at Apple, Google Antitrust Hearing'], ['GOOG', 'Apr-19-21', '01:18PM', 'Fitbit announces new Luxe tracker with thinnest touch screen yet'], ['GOOG', 'Apr-19-21', '01:00PM', 'Fitbit launches new fashion forward Fitbit Luxe tracker, its first under Google'], ['GOOG', 'Apr-19-21', '12:48PM', 'Alphabet Inc. (GOOG), A Top Performer in Alger Spectras Q1 2021 Portfolio'], ['GOOG', 'Apr-19-21', '12:00PM', '6 Giants You Should Watch'], ['GOOG', 'Apr-19-21', '11:58AM', 'Russian competition watchdog opens case against Google over YouTube curbs'], ['GOOG', 'Apr-19-21', '11:25AM', 'UK intervenes in $40bn Nvidia-Arm deal on national security grounds'], ['GOOG', 'Apr-19-21', '10:49AM', 'Is Google Stock A Buy? Internet Search Giant Could Finally Be Best FANG Stock In 2021'], ['GOOG', 'Apr-19-21', '08:42AM', \"Google translation AI botches legal terms 'enjoin,' 'garnish' -research\"], ['GOOG', 'Apr-19-21', '08:11AM', \"The Biggest Risks to Big Tech's Continued Dominance\"], ['GOOG', 'Apr-19-21', '06:10AM', \"Google translation AI botches legal terms 'enjoin,' 'garnish' -research\"], ['GOOG', 'Apr-19-21', '06:00AM', \"Google translation AI botches legal terms 'enjoin,' 'garnish' -research\"], ['GOOG', 'Apr-19-21', '05:51AM', '3 Surefire Stocks to Invest $3,000 In Right Now'], ['GOOG', 'Apr-19-21', '05:44AM', 'Alphabet Price Target Raised by J.P. Morgan on Fundamentals'], ['GOOG', 'Apr-19-21', '03:32AM', 'Gojek Co-CEO to Head App Giant After Merger With Tokopedia'], ['GOOG', 'Apr-18-21', '09:49PM', 'Chinas Internet Stocks Face More Pain, Global Investors Say'], ['GOOG', 'Apr-18-21', '08:10AM', 'GOP memo on Big Tech shows lawmakers ready to burn down the internet, legal expert warns'], ['GOOG', 'Apr-17-21', '02:46PM', \"Benzinga's Bulls And Bears Of The Week: Alphabet, Coinbase, GE, Quantumscape, Tesla And More\"], ['GOOG', 'Apr-17-21', '08:23AM', 'These 3 Tech Stocks Are Building the Future'], ['GOOG', 'Apr-17-21', '08:12AM', 'Inclusive democracy is good for the economy: BNY Mellon Wealth Management CEO'], ['GOOG', 'Apr-17-21', '07:11AM', '7 Shocking Statistics About Big Tech Companies'], ['GOOG', 'Apr-17-21', '06:52AM', 'Which of the 5 Biggest Tech Companies Is the Best Buy Now?'], ['GOOG', 'Apr-16-21', '05:45PM', 'Alphabet Inc. (GOOG) Gains But Lags Market: What You Should Know'], ['GOOG', 'Apr-16-21', '04:37PM', 'GOP seeks to change regulations for big tech companies'], ['GOOG', 'Apr-16-21', '03:50PM', 'How to turn online gaming into a lucrative career: YouTube Fortnite sensation Lachlan Power'], ['GOOG', 'Apr-16-21', '02:08PM', \"Google Earth's timelapse feature puts a spotlight on climate change\"], ['GOOG', 'Apr-16-21', '02:02PM', 'How the Venmo Debit Card May Save PayPal'], ['GOOG', 'Apr-16-21', '12:34PM', \"San Jose Mayor on recovery: 'Its not just a matter of bouncing back, but bouncing back more equitably'\"], ['GOOG', 'Apr-16-21', '11:12AM', 'FAANG Bites: How Valuable Is Apple?'], ['GOOG', 'Apr-16-21', '10:32AM', '11 best smart speakers for virtual assistance at home and on the go'], ['GOOG', 'Apr-16-21', '10:00AM', 'Better Buy: Amazon vs. Microsoft'], ['GOOG', 'Apr-16-21', '09:04AM', 'Google Earth adds time lapse video to depict climate change'], ['GOOG', 'Apr-16-21', '08:10AM', 'Dow Jones Futures Rise As Treasury Yields Rebound Fades After Stock Market Rally; 3 Giants Flash Buy Signals'], ['GOOG', 'Apr-16-21', '07:13AM', 'The Zacks Analyst Blog Highlights: Gartner, Logitech, Google, HP and Apple'], ['GOOG', 'Apr-16-21', '06:10AM', '3 Cheap Tech Stocks to Buy Right Now'], ['GOOG', 'Apr-16-21', '05:20AM', 'Alphabet Misled Consumers on Data Collection, Australia Says'], ['GOOG', 'Apr-16-21', '01:00AM', 'Apples New Privacy Zeal Is a Threat to Small App Developers'], ['GOOG', 'Apr-15-21', '10:58PM', 'UPDATE 2-Google misled consumers over data collection - Australian watchdog'], ['GOOG', 'Apr-15-21', '10:21PM', 'Google misled consumers over data collection - Australian watchdog'], ['GOOG', 'Apr-15-21', '06:17PM', 'U.S. Exposes Hackers Helpers to Punish Russian Attacks'], ['GOOG', 'Apr-15-21', '04:07PM', 'GM Stock Rises On Latest Big Investor In Self-Driving Unit Cruise'], ['GOOG', 'Apr-15-21', '02:37PM', 'UPDATE 1-U.S. House committee approves blueprint for Big Tech crackdown'], ['GOOG', 'Apr-15-21', '01:22PM', 'Google Pledges More Than $2.5M For COVID-19 Vaccine Initiatives: Bloomberg'], ['GOOG', 'Apr-15-21', '12:43PM', 'Heres Why Wedgewood Thinks Alphabet Inc. (GOOG) is Attractive to Investors of All Stripes'], ['GOOG', 'Apr-15-21', '12:42PM', 'House approves legislative blueprint to rein in Big Tech'], ['GOOG', 'Apr-15-21', '12:18PM', 'Microsoft launches Edge Kids Mode, the first kid-friendly version of a major web browser'], ['GOOG', 'Apr-15-21', '10:10AM', 'Top stocks to watch as earnings season kicks off'], ['GOOG', 'Apr-15-21', '10:00AM', 'Google Commits Millions for Vaccine Shots and Online PSAs'], ['GOOG', 'Apr-15-21', '09:15AM', 'Better Buy: Microsoft vs. Alphabet'], ['GOOG', 'Apr-15-21', '09:00AM', 'Google Earth Now Shows Decades of Climate Change in Seconds'], ['GOOG', 'Apr-15-21', '08:59AM', '3 Cheap Tech Stocks to Buy Right Now'], ['GOOG', 'Apr-15-21', '08:12AM', 'AppLovin IPO: 5 things to know about the software company valued at nearly $30 billion'], ['GOOG', 'Apr-15-21', '08:00AM', 'Cathie Wood Just Bought These 3 High-Growth Stocks That Could Make You a Fortune'], ['GOOG', 'Apr-15-21', '07:07AM', '3 Reasons I Just Bought Snap'], ['GOOG', 'Apr-15-21', '06:22AM', '4 Stocks to Focus on Solid Momentum in PC Shipments'], ['GOOG', 'Apr-15-21', '05:32AM', 'Becton Dickinson\\xa0Backing Vicarious Surgicals D8 SPAC Deal'], ['GOOG', 'Apr-15-21', '04:00AM', 'Facebook Supreme Court Weighs Trumps Social Media Fate'], ['GOOG', 'Apr-14-21', '06:28PM', 'Judge in Texas lawsuit against Google issues protective order'], ['WMT', 'Apr-21-21', '04:25PM', \"Small businesses 'had to become digital' amid COVID-19: Facebook VP\"], ['WMT', 'Apr-21-21', '01:36PM', '4 Dow Jones Stocks To Buy And Watch In April 2021: Apple Reverses Higher'], ['WMT', 'Apr-21-21', '07:07AM', 'The Zacks Analyst Blog Highlights: Walmart, Comcast, Broadcom, Sanofi and HSBC Holdings'], ['WMT', 'Apr-20-21', '01:37PM', 'Top Analyst Reports for Walmart, Comcast & Broadcom'], ['WMT', 'Apr-20-21', '08:18AM', \"A new kind of chicken war: Kellogg's MorningStar Farms unveils plant-based tenders\"], ['WMT', 'Apr-20-21', '08:07AM', 'Fears £6.8bn Asda takeover could lead to higher fuel prices'], ['WMT', 'Apr-20-21', '06:40AM', 'Asda takeover may force billionaire brothers to sell 50 petrol stations'], ['WMT', 'Apr-19-21', '05:45PM', 'Walmart (WMT) Dips More Than Broader Markets: What You Should Know'], ['WMT', 'Apr-19-21', '10:22AM', 'Bill Gates Top 10 High Dividend Stocks'], ['WMT', 'Apr-19-21', '09:00AM', 'One Year Later, Testing Remains Important'], ['WMT', 'Apr-18-21', '10:02AM', 'Billionaire Issa brothers swoop for fast food chain Leon'], ['WMT', 'Apr-16-21', '05:32PM', '5 Top Stock Trades for Monday: BA, MS, WMT, AA, KO'], ['WMT', 'Apr-16-21', '12:35PM', 'Consumer confidence fuels blistering sales at Bed Bath & Beyond this spring'], ['WMT', 'Apr-16-21', '09:51AM', \"Amazon Defies Reuters' Story As Evidence In Indian Antitrust Probe: Reuters\"], ['WMT', 'Apr-16-21', '09:09AM', 'Walmart (WMT) To Fortify Delivery Game, Invests in Cruise'], ['WMT', 'Apr-16-21', '08:37AM', 'Better Buy: Disney vs. Walmart'], ['WMT', 'Apr-16-21', '04:09AM', \"China's Economy, Retail Sales, Helicopter Money, Walmart's Autonomous Vehicles\"], ['WMT', 'Apr-15-21', '06:38PM', \"Is Kroger Stock A Buy Right Now? Here's What Earnings, Charts Show\"], ['WMT', 'Apr-15-21', '06:16PM', 'Walmart Joins a Multibillion-Dollar Investment in Self-Driving Cars'], ['WMT', 'Apr-15-21', '05:40PM', 'In E-commerce Race, Walmart Eyes Its Workforce and Delivery Tech'], ['WMT', 'Apr-15-21', '05:06PM', \"Walmart bets on GM's Cruise self-driving unit\"], ['WMT', 'Apr-15-21', '04:07PM', 'GM Stock Rises On Latest Big Investor In Self-Driving Unit Cruise'], ['WMT', 'Apr-15-21', '12:13PM', 'Walmart invests in San Francisco-based autonomous vehicle company, Cruise'], ['WMT', 'Apr-15-21', '10:29AM', 'Amazon Prime now has 200 million members, jumping 50 million in one year'], ['WMT', 'Apr-15-21', '09:51AM', 'Walmart Takes Stake in GM Autonomous-Vehicle Unit Cruise'], ['WMT', 'Apr-15-21', '09:36AM', 'Walmart invests in self-driving electric car company Cruise after delivery pilot'], ['WMT', 'Apr-15-21', '09:19AM', 'Self-driving startup Cruise raises $2.75 billion from Walmart, others'], ['WMT', 'Apr-15-21', '08:22AM', 'Walmart flagged for failing cage-free chicken test in Latin America'], ['WMT', 'Apr-15-21', '08:21AM', 'UPDATE 1-Walmart flagged for failing cage-free chicken test in Latin America'], ['WMT', 'Apr-15-21', '08:00AM', 'Walmart flagged for failing cage-free chicken test in Latin America'], ['WMT', 'Apr-15-21', '07:56AM', 'Amazons Future CEO Jassy to Accelerate India Push Amid Protests'], ['WMT', 'Apr-14-21', '06:33PM', \"Walmart Sets the Goal of 67% Full-Time Employees by 2021's End\"], ['WMT', 'Apr-14-21', '05:39PM', 'Amazon Pledges to Promote More Women, Black Employees'], ['WMT', 'Apr-14-21', '05:03PM', 'Walmart moving more workers to full time in retention effort'], ['WMT', 'Apr-14-21', '03:22PM', \"Is Walmart Stock A Buy Right Now? Here's What Charts, Analysis Show\"], ['WMT', 'Apr-14-21', '02:24PM', 'Walmart to increase full-time employees'], ['WMT', 'Apr-14-21', '02:00PM', 'Kroger Is Amassing\\xa0a\\xa0Robot Army to\\xa0Battle\\xa0Amazon,\\xa0Walmart'], ['WMT', 'Apr-14-21', '01:45PM', 'Walmart plans to make most store associates full-time by early 2022'], ['WMT', 'Apr-14-21', '06:45AM', 'Indias Small Merchants Take on Amazon With Protest Meeting'], ['WMT', 'Apr-14-21', '06:10AM', 'How the pandemic helped Walmart battle Amazon Marketplace for sellers'], ['WMT', 'Apr-14-21', '06:03AM', 'Focus: How the pandemic helped Walmart battle Amazon Marketplace for sellers'], ['WMT', 'Apr-13-21', '05:45PM', 'Walmart (WMT) Stock Sinks As Market Gains: What You Should Know'], ['WMT', 'Apr-13-21', '05:18PM', 'Walmart (WMT) Boosts India Operations With Flipkart-Adani Deal'], ['WMT', 'Apr-13-21', '02:12PM', 'Frontline food workers face disproportionate impacts from COVID-19 pandemic'], ['WMT', 'Apr-13-21', '12:01PM', 'Walmart increases efforts to save birds, bees, butterflies and other pollinators'], ['WMT', 'Apr-13-21', '06:00AM', 'Biden Hears 310 Companies Urge Speed on Climate: Raise the Bar'], ['WMT', 'Apr-12-21', '06:41PM', 'Flipkarts Warehouse Venture to Bolster Walmarts India Presence'], ['WMT', 'Apr-12-21', '09:25AM', 'Ecoark Awarded $115 Million in Lawsuit Against Walmart'], ['WMT', 'Apr-12-21', '07:59AM', 'Walmart Plans Massive India Warehouse With Billionaire Adani'], ['WMT', 'Apr-12-21', '07:46AM', \"Walmart China, Dada Group's JDDJ Extend Omni-Channel Customer Digitalization Partnership\"], ['WMT', 'Apr-11-21', '07:00PM', 'Six New Unicorns in Four Days Marks Historic Boom for India Tech'], ['WMT', 'Apr-11-21', '04:05PM', 'Better Buy: Costco vs. Walmart'], ['WMT', 'Apr-10-21', '08:00PM', 'A-Rod and ex-Walmart executive to buy Minnesota Timberwolves'], ['WMT', 'Apr-10-21', '09:33AM', 'What Amazon Can Learn from a Bruising Victory in Bessemer, Alabama'], ['WMT', 'Apr-09-21', '06:27PM', 'Black-Owned Restaurant Secures The Bag with Franchise Opportunity Within Walmart: It Started with Selling Fish on the Street'], ['WMT', 'Apr-09-21', '03:27PM', \"McDonald's to Close Hundreds of Stores in Walmart Locations\"], ['WMT', 'Apr-09-21', '01:29PM', 'McDonalds to exit hundreds more Walmart stores'], ['WMT', 'Apr-09-21', '12:41PM', 'Amazon Wins Union Election in Setback to Labor Movement'], ['WMT', 'Apr-09-21', '12:00PM', \"McDonald's Is Closing Hundreds of Walmart Location Stores\"], ['WMT', 'Apr-09-21', '11:24AM', \"PetSmart LLC -- Moody's announces completion of a periodic review of ratings of PetSmart LLC\"], ['WMT', 'Apr-09-21', '11:14AM', \"Petco Health and Wellness Company, Inc. -- Moody's announces completion of a periodic review of ratings of Petco Health and Wellness Company, Inc.\"], ['WMT', 'Apr-09-21', '10:16AM', 'What Best Buys new membership program means for shoppers'], ['WMT', 'Apr-09-21', '08:16AM', \"McDonald's Plans to Shutter Hundreds of Outlets in Walmart Stores\"], ['WMT', 'Apr-08-21', '02:04PM', 'Best Buy Introduces Membership Plan to Rival Amazon Prime and Walmart+'], ['WMT', 'Apr-08-21', '01:23PM', 'Best Buy Joins the Membership Club. What Investors Should Know.'], ['WMT', 'Apr-08-21', '12:21PM', 'Best Buy is the latest retailer to attack Amazon Prime'], ['WMT', 'Apr-08-21', '08:45AM', \"Here's Why the Flipkart IPO Is a Brilliant Move for Walmart\"], ['WMT', 'Apr-08-21', '07:15AM', \"Is JD Stock A Buy Right Now? Here's What JD.com Earnings, Charts Show\"], ['WMT', 'Apr-08-21', '06:00AM', 'Tiger Global Backs Bots Startup Gupshup at $1.4 Billion Value'], ['WMT', 'Apr-08-21', '04:32AM', 'Amazon Reveals Scorching India Growth as Walmart Fight Deepens'], ['WMT', 'Apr-07-21', '05:45PM', 'Walmart (WMT) Stock Sinks As Market Gains: What You Should Know'], ['WMT', 'Apr-07-21', '04:30PM', 'The Simply Good Foods Company (SMPL) Q2 2021 Earnings Call Transcript'], ['WMT', 'Apr-07-21', '04:23PM', \"How Walmart Makes Money: U.S., International, and Sam's Club Stores\"], ['WMT', 'Apr-07-21', '02:50PM', 'New robot Stretch to amplify productivity in warehouses: Boston Dynamics CEO'], ['WMT', 'Apr-07-21', '11:11AM', \"How COVID-19 has impacted teen's brand preferences\"], ['WMT', 'Apr-07-21', '08:43AM', 'Alcoa, Anheueser-Busch InBev, Rent-A-Center, Target and Walmart highlighted as Zacks Bull and Bear of the Day'], ['WMT', 'Apr-06-21', '06:24PM', 'Walmarts Sustainability Pitch to Wall Street'], ['WMT', 'Apr-06-21', '04:57PM', 'Targets car seat trade-in event is back through April 17'], ['WMT', 'Apr-06-21', '04:36PM', 'Dividends and Growth: Why RCII is a Strong Buy Retail Stock'], ['WMT', 'Apr-06-21', '04:27PM', 'Are Walmart+ Subscriptions Stagnating? One Analyst Thinks So.'], ['WMT', 'Apr-06-21', '12:00PM', 'Is Walmart a Great Dividend Stock?'], ['WMT', 'Apr-06-21', '11:34AM', 'Walmart Flipkart India Unit Reportedly Progresses Toward IPO'], ['WMT', 'Apr-06-21', '10:57AM', 'Walmarts Flipkart\\xa0Aims for IPO in Fourth Quarter, Sources Say'], ['WMT', 'Apr-05-21', '12:13PM', 'Costco stock may surprise if the company hikes membership fees in fall 2022'], ['WMT', 'Apr-05-21', '12:00PM', '3 Recession-Proof Stocks to Buy Now'], ['WMT', 'Apr-05-21', '11:17AM', 'Retail outlook: expect discretionary retail to take off'], ['WMT', 'Apr-05-21', '10:03AM', 'Top stocks investors bought and sold in March'], ['WMT', 'Apr-05-21', '08:00AM', \"Walmart and Sam's Club Fight Hunger. Spark Change. Campaign Helps Feeding America® Network of Local Food Banks Provide Meals to Communities in Need\"], ['WMT', 'Apr-01-21', '06:00AM', 'Fashion retailers bet bras with wires and a splash of color will sell this spring'], ['WMT', 'Mar-31-21', '07:04PM', \"Walmart Inc. -- Moody's announces completion of a periodic review of ratings of Walmart Inc.\"], ['WMT', 'Mar-31-21', '05:32PM', 'Amazon Says Most U.S. Employees Will Return to Work in the Fall'], ['WMT', 'Mar-31-21', '01:00PM', 'Is there a pet food shortage?'], ['WMT', 'Mar-31-21', '04:04AM', 'Indias First Unicorn Plans U.S. IPO at Value of Up to $15 Billion'], ['WMT', 'Mar-30-21', '06:09PM', \"Moran Foods LLC -- Moody's announces completion of a periodic review of ratings of Moran Foods LLC\"], ['WMT', 'Mar-30-21', '05:45PM', 'Walmart (WMT) Dips More Than Broader Markets: What You Should Know'], ['WMT', 'Mar-30-21', '04:05PM', 'Walmart Announces 2021 Annual Shareholders Meeting Date'], ['WMT', 'Mar-30-21', '12:00PM', 'Got $3000? Here Are 3 Stocks to Buy and Hold for the Long Term'], ['WMT', 'Mar-30-21', '11:10AM', 'New Strong Sell Stocks for March 30th'], ['WMT', 'Mar-30-21', '08:33AM', \"Walmart to Participate in Cowen's 2nd Annual Consumer Platforms for the Next Generation Summit\"], ['WMT', 'Mar-29-21', '01:42PM', 'Despite its best efforts, Walmarts e-commerce is still a fraction of Amazons'], ['CMG', 'Apr-21-21', '04:36PM', 'Chipotle up following earnings beat'], ['CMG', 'Apr-21-21', '04:25PM', 'Chipotle Stock Rises As Earnings Beat, Comp Sales To Accelerate'], ['CMG', 'Apr-21-21', '04:23PM', 'Chipotles Q1 sales rise 20%, spurred by online orders'], ['CMG', 'Apr-21-21', '04:21PM', 'UPDATE 1-Chipotle comparable sales surge 17.2% on digital boost, new menu items'], ['CMG', 'Apr-21-21', '04:16PM', 'Chipotle comparable sales surge 17.2% on digital boost, new menu items'], ['CMG', 'Apr-21-21', '04:10PM', 'Chipotle Announces First Quarter 2021 Results'], ['CMG', 'Apr-21-21', '03:09PM', 'These Are The 5 Best Stocks To Buy And Watch Now'], ['CMG', 'Apr-21-21', '01:12PM', 'Why growth stocks are eager to take off this earnings season'], ['CMG', 'Apr-21-21', '12:47PM', \"Chipotle Q1 earnings blows away Wall Street's estimates, boosted by digital surge\"], ['CMG', 'Apr-20-21', '12:47PM', 'How to Trade Chipotle After the Earnings Report'], ['CMG', 'Apr-20-21', '10:23AM', 'Chipotle Reports Earnings on Wednesday. How to Play It With Options.'], ['CMG', 'Apr-20-21', '08:32AM', 'Is a Surprise Coming for Chipotle (CMG) This Earnings Season?'], ['CMG', 'Apr-20-21', '07:59AM', 'Chipotle Stocks Rally Will ContinueEven If Its Stock Takes an Earnings Hit'], ['CMG', 'Apr-19-21', '06:51PM', 'Buy Soaring Chipotle (CMG) Stock Before Q1 Earnings for More Growth?'], ['CMG', 'Apr-19-21', '08:01AM', 'AT&T, Netflix, Intel, Chipotle, and Other Stocks to Watch This Week'], ['CMG', 'Apr-18-21', '09:05AM', 'Earnings: 2 Hot Stocks to Watch This Week'], ['CMG', 'Apr-16-21', '02:16PM', \"Why people are obsessed with chicken sandwiches: Wendy's CEO\"], ['CMG', 'Apr-16-21', '12:52PM', \"Nuro teams up with Domino's for driverless deliveries\"], ['CMG', 'Apr-16-21', '10:59AM', \"Wendy's breakfast is on track for more than $1 billion in sales: CEO\"], ['CMG', 'Apr-16-21', '09:51AM', \"Wendy's CEO: We are on our way to 8,000 restaurants by 2025\"], ['CMG', 'Apr-16-21', '09:10AM', \"Factors Setting the Tone for Chipotle's (CMG) Q1 Earnings\"], ['CMG', 'Apr-16-21', '07:53AM', \"3 Things You'll Want to Know When Chipotle Reports Earnings\"], ['CMG', 'Apr-15-21', '08:06AM', 'Chipotle Releases 2020 Sustainability Report, Achieves 50% Waste Diversion Goal'], ['CMG', 'Apr-14-21', '03:00PM', 'These 3 big restaurants use cool technology to serve fast-food super quickly'], ['CMG', 'Apr-14-21', '06:16AM', 'These 3 Stocks Have Doubled and Still Have Room to Grow'], ['CMG', 'Apr-13-21', '08:00PM', 'Yum! Brands Launches Its First American Digital-Only Taco Bell'], ['CMG', 'Apr-13-21', '05:06AM', 'Morning Bell With Jim Cramer: Buy Uber Technologies'], ['CMG', 'Apr-12-21', '03:34PM', 'America is set to reopen on July 4 and restaurants are poised to benefit from a desire to get out and gather, says JPMorgan'], ['CMG', 'Apr-12-21', '03:24PM', 'Dow Jones Sells Off On Powell Comments; Tech Stocks Lead Downside; These Stocks Score Breakouts'], ['CMG', 'Apr-12-21', '03:01PM', \"Jim Cramer: We're Seeing the Triumph of Big Balance Sheets vs the Small Ones\"], ['CMG', 'Apr-12-21', '01:15PM', \"McDonald's new chicken sandwiches lose some hype  here's what it means for the company's stock\"], ['CMG', 'Apr-12-21', '12:13PM', 'Alibaba Breathes a Sigh of Relief, Chipotle Sizzles as Markets Fizzle'], ['CMG', 'Apr-12-21', '11:56AM', 'Why Jim Cramer Is Doubling Down On Chipotle Mexican Grill Stock'], ['CMG', 'Apr-12-21', '09:40AM', 'Chipotle Stock Scores an Upgrade Ahead of Earnings'], ['CMG', 'Apr-12-21', '09:07AM', \"Raymond James Likes Chipotle, Calls It a 'High-Quality Growth Story'\"], ['CMG', 'Apr-12-21', '06:08AM', 'Chipotle Mexican Grill Notches Yet Another New High'], ['CMG', 'Apr-12-21', '01:42AM', 'Chipotle Mexican Grill Could Hit New All-Time High on Strong Q1 Earnings'], ['CMG', 'Apr-08-21', '12:10PM', 'Chipotle Offers Employees Free Degrees In Agriculture, Culinary And Hospitality Studies'], ['CMG', 'Apr-08-21', '12:02PM', 'Chipotle Stocks Torrid Run-Up Isnt Over Yet, Analyst Says'], ['CMG', 'Apr-08-21', '10:38AM', 'Is CMG Stock A Buy or Sell?'], ['CMG', 'Apr-08-21', '08:03AM', 'Chipotle To Offer Free Degrees In Agriculture, Culinary, And Hospitality To Employees'], ['CMG', 'Apr-07-21', '08:18AM', 'Dow Jones Futures: Market Rally Holds Gains As Square, Chipotle Flash Buy Signals; Tesla Faces Key Test'], ['CMG', 'Apr-07-21', '07:00AM', 'How a $3B Stock Fund Stays on Trend and on Top'], ['CMG', 'Apr-06-21', '03:26PM', 'Chipotle Has a New Price Target. Blame the Beef.'], ['CMG', 'Apr-06-21', '01:55PM', 'Chipotle takes another step closer to margin goals with steak price hike: Truist'], ['CMG', 'Apr-06-21', '11:42AM', 'Chipotle Rebounds Bullishly'], ['CMG', 'Apr-06-21', '04:58AM', 'Chipotle Target Lifted at Truist on Price Rises, Margin Potential'], ['CMG', 'Apr-05-21', '11:53AM', \"Chipotle CEO's 2020 pay more than doubles, as COVID-related PSU modifications provided a $23 million boost\"], ['CMG', 'Apr-05-21', '01:21AM', 'Is Chipotle Mexican Grill (CMG) A Smart Long-Term Buy?'], ['CMG', 'Apr-01-21', '01:07AM', 'J&J, Microsoft, Micron, Chipotle, Bitcoin - 5 Things You Must Know Thursday'], ['CMG', 'Mar-31-21', '08:09AM', 'Chipotle Is Handing Out $100,000 in Free Bitcoin (Plus Burritos)'], ['CMG', 'Mar-30-21', '06:15PM', 'Chipotle plans to give away $100,000 in both Bitcoin and free food this Thursday'], ['CMG', 'Mar-30-21', '05:29PM', 'Chipotle to give away bitcoin and burritos, as part of effort to reach Gen Z'], ['CMG', 'Mar-30-21', '04:15PM', 'Chipotle Names Matt Carey and Mauricio Gutierrez to its Board of Directors'], ['CMG', 'Mar-30-21', '10:48AM', 'Burritos or Bitcoin? Chipotle Asks Fans To Pick One During Promotion'], ['CMG', 'Mar-30-21', '10:14AM', 'Chipotle to Give Away $200,000 in Burritos and Bitcoin'], ['CMG', 'Mar-30-21', '08:08AM', 'Burritos Or Bitcoin: Chipotle To Give Away $200k In Free Burritos And Bitcoin To Celebrate National Burrito Day'], ['CMG', 'Mar-29-21', '12:36PM', \"Ackman says capitalism is 'the most powerful potential source' for solving society's problems, touts ESG investing\"], ['CMG', 'Mar-29-21', '11:26AM', \"Is Chuy's Stock a Buy?\"], ['CMG', 'Mar-29-21', '08:54AM', 'Chipotle Invests In Nuro In Autonomous Delivery Push'], ['CMG', 'Mar-26-21', '05:13PM', \"The top menu items that Burger King, McDonald's, Taco Bell have brought back from the dead\"], ['CMG', 'Mar-26-21', '09:03AM', 'Chipotle (CMG) Invests in Nuro for Digital Sales Enhancement'], ['CMG', 'Mar-25-21', '04:10PM', 'Chipotle Invests In Autonomous-Delivery Startup As Digital Sales Jump'], ['CMG', 'Mar-25-21', '03:29PM', 'Chipotle Mexican Grill Invests in a Robotic Delivery Company'], ['CMG', 'Mar-25-21', '10:38AM', \"Chipotle Invests In Autonomous Delivery Service Nuro's Series C Funding\"], ['CMG', 'Mar-25-21', '09:15AM', 'Chipotle invests in SoftBank-backed driverless delivery startup Nuro'], ['CMG', 'Mar-25-21', '09:05AM', 'Chipotle Invests in Autonomous-Delivery Startup Nuro'], ['CMG', 'Mar-25-21', '08:18AM', 'Chipotle invests in driverless delivery company, Nuro'], ['CMG', 'Mar-25-21', '08:02AM', 'Chipotle Invests In Leading Autonomous Delivery Company, Nuro'], ['CMG', 'Mar-24-21', '12:10PM', 'Jack in the Box CEO on the companys best quarter in 27 years'], ['CMG', 'Mar-24-21', '10:09AM', \"Dave & Buster's Target Lifted as Vaccine Enables Stores to Reopen\"], ['CMG', 'Mar-24-21', '09:17AM', 'Chipotle (CMG) to Expand Presence in Canada With 8 New Openings'], ['CMG', 'Mar-23-21', '12:40PM', 'Price Over Earnings Overview: Chipotle Mexican Grill'], ['CMG', 'Mar-23-21', '11:48AM', 'Why Chipotle Is Expanding Further Into Canada'], ['CMG', 'Mar-23-21', '08:50AM', \"Chipotle's 8-Store Canada Expansion Includes Chipotlanes\"], ['CMG', 'Mar-23-21', '08:34AM', \"Chipotle to add 8 Canadian locations, including the country's first 'Chipotlane'\"], ['CMG', 'Mar-23-21', '08:05AM', 'Chipotle To Accelerate Expansion Into Canada'], ['CMG', 'Mar-22-21', '05:21AM', 'After A Strong Year, Chipotle May Take A Breather'], ['CMG', 'Mar-19-21', '12:41PM', 'Chipotle Wouldnt Have to Do Much to Make Delivery Profitable'], ['CMG', 'Mar-19-21', '10:29AM', 'The economy is finally awaking from hibernation'], ['CMG', 'Mar-17-21', '03:10PM', 'Cracker Barrel Old Country Store Shows Improved Relative Strength'], ['CMG', 'Mar-17-21', '02:07PM', 'Chipotle Mexican Grill Getting Closer To Key Technical Benchmark'], ['CMG', 'Mar-17-21', '06:30AM', 'Heres How Much a $15 Minimum Wage Would Raise the Price of a Burrito. (Hint: Its Less Than Extra Guac.)'], ['CMG', 'Mar-16-21', '08:28AM', 'Better Buy: Nike vs. Chipotle'], ['CMG', 'Mar-15-21', '09:28AM', 'Chipotle (CMG) Banks on Chipotlane Add-ons Amid Dismal Traffic'], ['CMG', 'Mar-12-21', '02:23PM', 'Three stocks to benefit from the latest round of stimulus checks'], ['CMG', 'Mar-12-21', '11:10AM', 'Why a minimum wage hike will impact these companies: Morgan Stanley'], ['CMG', 'Mar-11-21', '01:11PM', 'These 10 companies would see their profits crushed if the minimum wage hits $11: Morgan Stanley'], ['CMG', 'Mar-10-21', '04:15PM', 'Chipotle, e.l.f Beauty makeup collaboration sells out on Chipotle Goods site in 11 minutes'], ['CMG', 'Mar-10-21', '10:42AM', \"Papa John's CEO on how brand sentiment has changed\"], ['CMG', 'Mar-10-21', '10:01AM', 'Taco Bell brings back the Quesalupa, giving diners a break from chicken wars'], ['CMG', 'Mar-09-21', '04:20PM', 'Chipotle unveils quesadilla, but for digital customers only'], ['CMG', 'Mar-09-21', '01:42PM', 'Why One Analyst Thinks Chipotle Shares Have Drifted Too Low'], ['CMG', 'Mar-09-21', '12:18PM', \"Chipotle Mexican Grill Price Target Cut at Goldman Sachs, but Stock Is Still a 'Buying Opportunity'\"], ['CMG', 'Mar-09-21', '08:54AM', 'Chipotle to launch quesadillas online on March 11'], ['CMG', 'Mar-09-21', '08:07AM', 'Chipotle Launches New Hand-Crafted Quesadilla As Its First Customizable Digital-Only Entree'], ['CMG', 'Mar-09-21', '08:07AM', 'Chipotle Launches New Hand-Crafted Quesadilla As Its First Customizable Digital-Only Entree'], ['CMG', 'Mar-09-21', '07:27AM', 'Chipotle Adds Quesadillas, Gains Positive Goldman Comments'], ['CMG', 'Mar-06-21', '08:00AM', 'Chipotle goes glam with new beauty collaboration, with an eye toward Gen Z consumers'], ['CMG', 'Mar-04-21', '07:12PM', 'Behind the Disruptive Deal Between Chipotle and e.l.f.'], ['XOM', 'Apr-21-21', '03:12PM', 'The war on Big Oil has begun'], ['XOM', 'Apr-21-21', '02:00PM', 'Will Big Oils Huge Carbon Capture Bet Pay Off?'], ['XOM', 'Apr-21-21', '01:00PM', 'Can Mozambique Defend Its Crucial Gas Assets?'], ['XOM', 'Apr-21-21', '11:40AM', 'TOT vs. XOM: Which Stock Should Value Investors Buy Now?'], ['XOM', 'Apr-21-21', '10:25AM', '10 Cheap Oil Stocks Under $10'], ['XOM', 'Apr-20-21', '08:07PM', 'Exxon floats idea for $100 billion private-public carbon capture hub, largest of its kind'], ['XOM', 'Apr-20-21', '03:00PM', 'Oil Prices Down Despite Libya Outage'], ['XOM', 'Apr-20-21', '10:50AM', 'ExxonMobil Proposes $100 Billion U.S. Carbon Capture and Storage Project'], ['XOM', 'Apr-20-21', '10:16AM', 'ExxonMobil (XOM) Pitches $100B Carbon Capture Idea in GoM'], ['XOM', 'Apr-19-21', '10:02PM', 'Exxon floats $100 billion carbon storage project requiring public, private financing'], ['XOM', 'Apr-19-21', '07:59PM', 'UPDATE 2-Exxon floats $100 bln carbon storage project requiring public, private financing'], ['XOM', 'Apr-19-21', '05:45PM', 'Exxon Mobil (XOM) Stock Moves -0.32%: What You Should Know'], ['XOM', 'Apr-19-21', '10:22AM', 'The Zacks Analyst Blog Highlights: Exxon Mobil, Deere, Goldman Sachs, Chevron and Micron'], ['XOM', 'Apr-19-21', '09:00AM', 'The Best Is Yet To Come For The Worlds Hottest Oil Play'], ['XOM', 'Apr-18-21', '08:00PM', 'ExxonMobil proposes carbon storage plan for Texas port'], ['XOM', 'Apr-16-21', '05:53PM', 'Proxy Season 2021 Looks Unusually Active, as Investors Press a Range of Concerns'], ['XOM', 'Apr-16-21', '03:00PM', 'Oil Demand Is Finally Bouncing Back'], ['XOM', 'Apr-16-21', '11:30AM', 'Is Exxon Mobil (XOM) Outperforming Other Oils-Energy Stocks This Year?'], ['XOM', 'Apr-15-21', '04:44PM', \"Exxon, activist spend over $65 million in battle for oil giant's future\"], ['XOM', 'Apr-15-21', '12:16PM', 'Exxon Puts Iraq Field Up for Sale With Debt Mountain Looming'], ['XOM', 'Apr-15-21', '09:39AM', 'ExxonMobil (XOM) Lowers Liza-1 Production in Offshore Guyana'], ['XOM', 'Apr-15-21', '06:43AM', 'Zacks Earnings Trends Highlights: Exxon, Chevron, Ford, Apple and JPMorgan'], ['XOM', 'Apr-14-21', '08:21AM', 'Exxon Mobil stock gains after Raymond James analyst backs off long-time bearish stance'], ['XOM', 'Apr-13-21', '03:00PM', 'Oil Prices Rangebound As Long Term Problems Emerge'], ['XOM', 'Apr-13-21', '12:34PM', 'REFILE-UPDATE 2-Apple backs far-reaching emissions disclosure rules'], ['XOM', 'Apr-13-21', '12:15PM', 'Halliburton (HAL) to Offer Reliable Resource Management Platform'], ['XOM', 'Apr-12-21', '07:00PM', 'Big Oil Aims To Win Back Investors With Green Oil'], ['XOM', 'Apr-12-21', '05:45PM', 'Exxon Mobil (XOM) Dips More Than Broader Markets: What You Should Know'], ['XOM', 'Apr-12-21', '12:17PM', \"Texas-based companies speak out against restrictive voting bills: 'Voting is a sacred right'\"], ['XOM', 'Apr-12-21', '10:19AM', 'ExxonMobil (XOM) to Turn Slagen Refinery Into Import Terminal'], ['XOM', 'Apr-12-21', '06:20AM', 'Jefferies lifts oil-price view and upgrades Eni and Exxon Mobil'], ['XOM', 'Apr-11-21', '08:41AM', 'Will Net-Zero Oil and Gas Save Fossil Fuels From Extinction?'], ['XOM', 'Apr-10-21', '08:15AM', 'Is ExxonMobil Stock a Buy?'], ['XOM', 'Apr-09-21', '05:58PM', 'Exxon Mobil Will Keep Paying Its Dividend, And May Be Worth 30% More'], ['XOM', 'Apr-09-21', '03:00PM', 'Oil Prices Post Weekly Loss On Covid Concerns'], ['XOM', 'Apr-09-21', '01:36PM', 'Battle of the Dividend Aristocrats: Exxon Mobil vs. Chevron'], ['XOM', 'Apr-09-21', '12:01AM', 'A Carbon-Sucking Startup Has Been Paralyzed by Its CEO'], ['XOM', 'Apr-08-21', '08:56AM', 'ExxonMobil (XOM) Eyes Advanced Elastomer Systems Divestment'], ['XOM', 'Apr-08-21', '07:13AM', 'Zacks Earnings Trends Highlights: Exxon, Chevron, Ford, Apple and JPMorgan'], ['XOM', 'Apr-07-21', '01:17PM', 'Exxon explores sale of elastic polymer business: sources'], ['XOM', 'Apr-07-21', '01:09PM', 'Exxon explores sale of elastic polymer business -sources'], ['XOM', 'Apr-07-21', '11:55AM', 'Goldman Sachs Downgraded Chevron Stock. Here Are the Oil Stocks to Buy Instead.'], ['XOM', 'Apr-07-21', '07:54AM', 'The Zacks Analyst Blog Highlights: L Brands, Goldman Sachs, Exxon Mobil, RH and Devon Energy'], ['XOM', 'Apr-06-21', '05:45PM', 'Exxon Mobil (XOM) Stock Sinks As Market Gains: What You Should Know'], ['XOM', 'Apr-06-21', '04:06PM', 'Exxon Rival Could Be First Oil Major To Resume Stock Buybacks'], ['XOM', 'Apr-06-21', '03:00PM', 'Demand Concerns Continue To Plague Oil Markets'], ['XOM', 'Apr-06-21', '08:39AM', 'Phillips 66 (PSX) Sees US Storm Impact on Q1 Bottom Line'], ['XOM', 'Apr-06-21', '05:49AM', '5 Top-Ranked Momentum Stocks for April to Ride on Market Rally'], ['XOM', 'Apr-06-21', '05:47AM', \"Oil & Gas Stock Roundup: Exxon & Conoco Q1 Updates, Pioneer's Acquisition & More\"], ['XOM', 'Apr-05-21', '05:16PM', 'UPDATE 2-Exxon sues Energy Transfer over charges from pipeline dispute'], ['XOM', 'Apr-05-21', '04:43PM', 'Exxon sues Energy Transfer over charges from pipeline dispute'], ['XOM', 'Apr-05-21', '04:41PM', 'Exxon sues Energy Transfer over charges from pipeline dispute'], ['XOM', 'Apr-05-21', '01:36PM', 'Top Oil Stocks To Watch In U.S. Shale As New No. 1 Emerges In Permian Basin'], ['XOM', 'Apr-05-21', '10:33AM', \"Energy Giants Win NYC's Lawsuit to Tackle Climate Change\"], ['XOM', 'Apr-05-21', '07:17AM', 'The Zacks Analyst Blog Highlights: Exxon Mobil, Deere & Co, Goldman Sachs, ConocoPhillips and Micron Technology'], ['XOM', 'Apr-05-21', '06:30AM', 'S&P 500 Hits 4K Milestone on Fabulous Economic Data: 5 Picks'], ['XOM', 'Apr-02-21', '10:45AM', 'Billionaire Ken Fishers Top 10 High Dividend Stock Picks'], ['XOM', 'Apr-01-21', '07:53AM', 'ExxonMobil (XOM) Expects Texas Storm Impact on Q1 Earnings'], ['XOM', 'Apr-01-21', '07:26AM', 'Zacks Earnings Trends Highlights: Exxon, Chevron, Ford, Apple and JPMorgan'], ['XOM', 'Apr-01-21', '06:35AM', '3 Q1 Developments to Guide Course of Investing in 2021: 5 Picks'], ['XOM', 'Mar-31-21', '05:34PM', 'Exxon Sees Up to $800 Million Earnings Hit From Texas Freeze'], ['XOM', 'Mar-31-21', '05:02PM', 'UPDATE 1-Colombia provisionally approves ExxonMobil fracking pilot project'], ['XOM', 'Mar-31-21', '04:57PM', 'UPDATE 2-Exxon Mobil signals first profit in five quarters on price gains'], ['XOM', 'Mar-31-21', '04:24PM', 'Exxon Mobil signals first profit in five quarters on price gains'], ['XOM', 'Mar-31-21', '03:19PM', 'Colombia provisionally approves ExxonMobil fracking pilot project'], ['XOM', 'Mar-31-21', '01:13PM', 'ExxonMobil (XOM) to Conduct Testing of Lower-Carbon Fuel'], ['XOM', 'Mar-31-21', '01:01PM', 'March Madness on Wall Street: stocks to watch'], ['XOM', 'Mar-31-21', '12:43PM', \"Talos Energy's (TALO) Zama Oilfield to Continue Unitizing Process\"], ['XOM', 'Mar-31-21', '11:30AM', 'Is Exxon Mobil (XOM) Outperforming Other Oils-Energy Stocks This Year?'], ['XOM', 'Mar-30-21', '01:21PM', 'UPDATE 1-Qatar Petroleum takes over ownership of first-ever LNG plant'], ['XOM', 'Mar-30-21', '08:00AM', 'ExxonMobil and Porsche Test Lower-Carbon Fuel in Race Conditions'], ['XOM', 'Mar-30-21', '03:05AM', 'ByteDance Valued at $250 Billion in Private Trades'], ['XOM', 'Mar-29-21', '09:54PM', 'SHAREHOLDER ALERT: XOM XL VRM: The Law Offices of Vincent Wong Reminds Investors of Important Class Action Deadlines'], ['XOM', 'Mar-29-21', '05:45PM', 'Exxon Mobil (XOM) Dips More Than Broader Markets: What You Should Know'], ['XOM', 'Mar-29-21', '04:00PM', 'Colombia Is Preparing For A Fracking Boom'], ['XOM', 'Mar-29-21', '11:00AM', 'Schlumberger (SLB) Secures Deal to Drill Wells in Southern Iraq'], ['XOM', 'Mar-29-21', '10:04AM', 'DEADLINE TODAY: The Schall Law Firm Reminds Investors of Class Action Lawsuit Against Exxon Mobil Corporation and Encourages Investors with Losses in Excess of $500,000 to Contact the Firm'], ['XOM', 'Mar-29-21', '09:44AM', 'Watch Out! These 2 Stocks Might Cut Their Dividends'], ['XOM', 'Mar-29-21', '05:51AM', 'These 6 Dividend Stocks Pay $82 Billion a Year, Combined, to Their Shareholders'], ['XOM', 'Mar-29-21', '01:09AM', 'Exxon, Chevron take a slow walk on the path to U.S. shale recovery'], ['XOM', 'Mar-28-21', '09:49AM', 'My Top Energy Stock for Retirees'], ['XOM', 'Mar-27-21', '07:54PM', 'SHAREHOLDER ALERT:  Pomerantz Law Firm Reminds Shareholders with Losses on their Investment in Exxon Mobil Corporation of Class Action Lawsuit and Upcoming Deadline   XOM'], ['XOM', 'Mar-26-21', '03:00PM', 'Oil Rebounds On Suez Outage'], ['XOM', 'Mar-26-21', '02:37PM', 'Tech stocks are going to do vey well going forward: Expert'], ['XOM', 'Mar-26-21', '12:45PM', 'March Madness on Wall Street: stocks to watch'], ['XOM', 'Mar-26-21', '11:00AM', 'The Klein Law Firm Reminds Investors of Class Actions on Behalf of Shareholders of IRTC, XOM and APA'], ['XOM', 'Mar-26-21', '10:36AM', 'DEADLINE MONDAY ALERT: The Schall Law Firm Reminds Investors of Class Action Lawsuit Against Exxon Mobil Corporation and Encourages Investors with Losses in Excess of $500,000 to Contact the Firm'], ['XOM', 'Mar-26-21', '09:35AM', 'Continental (CLR) to Redeem Balance of $230M Senior Notes'], ['XOM', 'Mar-26-21', '08:40AM', 'Do Institutions Own Exxon Mobil Corporation (NYSE:XOM) Shares?'], ['XOM', 'Mar-25-21', '11:40AM', 'The Zacks Analyst Blog Highlights: Exxon Mobil, Thermo Fisher Scientific, Costco, Applied Materials and Automatic Data Processing'], ['XOM', 'Mar-25-21', '11:02AM', 'Zacks Earnings Trends Highlights: Exxon, Chevron, Ford, Apple and JPMorgan'], ['XOM', 'Mar-25-21', '10:50AM', 'Lawsuits Filed Against BLU, XOM and VLDR - Jakubowitz Law Pursues Shareholders Claims'], ['XOM', 'Mar-25-21', '10:17AM', 'MONDAY DEADLINE NOTICE: The Schall Law Firm Reminds Investors of Class Action Lawsuit Against Exxon Mobil Corporation and Encourages Investors with Losses in Excess of $500,000 to Contact the Firm'], ['XOM', 'Mar-25-21', '10:00AM', 'XOM Deadline: Bronstein, Gewirtz & Grossman, LLC Reminds Exxon Mobil Corporation Investors of Class Action and Lead Plaintiff Deadline: March 29, 2021'], ['XOM', 'Mar-24-21', '04:20PM', 'Top Research Reports for Exxon Mobil, Thermo Fisher & Costco'], ['XOM', 'Mar-24-21', '03:34PM', 'Energy Stocks To Watch: Natural Gas Powers Triple-Digit Growth, New Buy Point'], ['XOM', 'Mar-24-21', '12:21PM', 'SHAREHOLDER ALERT: Levi & Korsinsky, LLP Notifies Shareholders of Exxon Mobil Corporation of a Class Action Lawsuit and a Lead Plaintiff Deadline of March 29, 2021 - XOM'], ['XOM', 'Mar-24-21', '11:07AM', '10 Biggest Industries in the World in 2021'], ['XOM', 'Mar-24-21', '11:00AM', 'XOM Deadline Alert: Bronstein, Gewirtz & Grossman, LLC Reminds Exxon Mobil Corporation Investors of Class Action and Lead Plaintiff Deadline: March 29, 2021'], ['XOM', 'Mar-24-21', '10:40AM', 'LAWSUITS FILED AGAINST AZN, XOM and ROOT - Jakubowitz Law Pursues Shareholders Claims']]\n"
     ]
    }
   ],
   "source": [
    "# Format the Data for Sentiment Analysis by iterating through collected news and sorting into list with tickers, dates, times, and headlines\n",
    "parsed_news = []\n",
    "for file_name, news_table in news_tables.items():\n",
    "    for x in news_table.findAll('tr'):\n",
    "        text = x.a.get_text() \n",
    "        date_scrape = x.td.text.split()\n",
    "\n",
    "        if len(date_scrape) == 1: #implies that we only have timestamp\n",
    "            time = date_scrape[0]\n",
    "            \n",
    "        else:\n",
    "            date = date_scrape[0]\n",
    "            time = date_scrape[1]\n",
    "\n",
    "        ticker = file_name.split('_')[0]\n",
    "        \n",
    "        parsed_news.append([ticker, date, time, text])\n",
    "    \n",
    "print(parsed_news)"
   ]
  },
  {
   "cell_type": "code",
   "execution_count": 4,
   "id": "cf97e067",
   "metadata": {
    "tags": []
   },
   "outputs": [
    {
     "data": {
      "text/html": [
       "<div>\n",
       "<style scoped>\n",
       "    .dataframe tbody tr th:only-of-type {\n",
       "        vertical-align: middle;\n",
       "    }\n",
       "\n",
       "    .dataframe tbody tr th {\n",
       "        vertical-align: top;\n",
       "    }\n",
       "\n",
       "    .dataframe thead th {\n",
       "        text-align: right;\n",
       "    }\n",
       "</style>\n",
       "<table border=\"1\" class=\"dataframe\">\n",
       "  <thead>\n",
       "    <tr style=\"text-align: right;\">\n",
       "      <th></th>\n",
       "      <th>Ticker</th>\n",
       "      <th>Date</th>\n",
       "      <th>Time</th>\n",
       "      <th>Headline</th>\n",
       "      <th>compound</th>\n",
       "    </tr>\n",
       "  </thead>\n",
       "  <tbody>\n",
       "    <tr>\n",
       "      <th>0</th>\n",
       "      <td>AAPL</td>\n",
       "      <td>Apr-21-21</td>\n",
       "      <td>04:28PM</td>\n",
       "      <td>Encrypted chat app Signal reveals flaws in Cel...</td>\n",
       "      <td>0.0000</td>\n",
       "    </tr>\n",
       "    <tr>\n",
       "      <th>1</th>\n",
       "      <td>AAPL</td>\n",
       "      <td>Apr-21-21</td>\n",
       "      <td>04:09PM</td>\n",
       "      <td>Why analysts are bullish on Apple stock</td>\n",
       "      <td>0.0000</td>\n",
       "    </tr>\n",
       "    <tr>\n",
       "      <th>2</th>\n",
       "      <td>AAPL</td>\n",
       "      <td>Apr-21-21</td>\n",
       "      <td>03:55PM</td>\n",
       "      <td>Apples iPad Pro is making its own laptops obso...</td>\n",
       "      <td>-0.2960</td>\n",
       "    </tr>\n",
       "    <tr>\n",
       "      <th>3</th>\n",
       "      <td>AAPL</td>\n",
       "      <td>Apr-21-21</td>\n",
       "      <td>03:51PM</td>\n",
       "      <td>Spotify, Match Tell Senate Apple Is Abusing Po...</td>\n",
       "      <td>-0.4588</td>\n",
       "    </tr>\n",
       "    <tr>\n",
       "      <th>4</th>\n",
       "      <td>AAPL</td>\n",
       "      <td>Apr-21-21</td>\n",
       "      <td>03:45PM</td>\n",
       "      <td>Senate hearing on app stores puts Apple, Googl...</td>\n",
       "      <td>0.0000</td>\n",
       "    </tr>\n",
       "  </tbody>\n",
       "</table>\n",
       "</div>"
      ],
      "text/plain": [
       "  Ticker       Date     Time  \\\n",
       "0   AAPL  Apr-21-21  04:28PM   \n",
       "1   AAPL  Apr-21-21  04:09PM   \n",
       "2   AAPL  Apr-21-21  03:55PM   \n",
       "3   AAPL  Apr-21-21  03:51PM   \n",
       "4   AAPL  Apr-21-21  03:45PM   \n",
       "\n",
       "                                            Headline  compound  \n",
       "0  Encrypted chat app Signal reveals flaws in Cel...    0.0000  \n",
       "1            Why analysts are bullish on Apple stock    0.0000  \n",
       "2  Apples iPad Pro is making its own laptops obso...   -0.2960  \n",
       "3  Spotify, Match Tell Senate Apple Is Abusing Po...   -0.4588  \n",
       "4  Senate hearing on app stores puts Apple, Googl...    0.0000  "
      ]
     },
     "execution_count": 4,
     "metadata": {},
     "output_type": "execute_result"
    }
   ],
   "source": [
    "# Sentiment Analysis with NLTK VADER Sentiment\n",
    "vader = SentimentIntensityAnalyzer()\n",
    "\n",
    "columns = ['Ticker', 'Date', 'Time', 'Headline']\n",
    "news = pd.DataFrame(parsed_news, columns=columns) #create dataframe to host data\n",
    "\n",
    "f = lambda Headline: vader.polarity_scores(Headline)['compound']\n",
    "news['compound'] = news['Headline'].apply(f)\n",
    "#scores = news['Headline'].apply(vader.polarity_scores).tolist()\n",
    "news.head()\n",
    "# df_scores = pd.DataFrame(scores)\n",
    "# news = news.join(df_scores, rsuffix='_right')\n",
    "# news.head()\n"
   ]
  },
  {
   "cell_type": "code",
   "execution_count": 49,
   "id": "dc1e4e5c",
   "metadata": {},
   "outputs": [
    {
     "data": {
      "text/plain": [
       "<Figure size 1800x720 with 0 Axes>"
      ]
     },
     "execution_count": 49,
     "metadata": {},
     "output_type": "execute_result"
    },
    {
     "data": {
      "image/png": "[encoded data removed]",
      "text/plain": [
       "<Figure size 432x288 with 1 Axes>"
      ]
     },
     "metadata": {
      "needs_background": "light"
     },
     "output_type": "display_data"
    },
    {
     "data": {
      "text/plain": [
       "<Figure size 1800x720 with 0 Axes>"
      ]
     },
     "metadata": {},
     "output_type": "display_data"
    }
   ],
   "source": [
    "#Manipulate the Data in order to create a plot\n",
    "mean_news= news.groupby(['Ticker', 'Date']).mean() \n",
    "mean_news = mean_news.unstack() #need the date as x axis\n",
    "mean_news = mean_news.xs('compound', axis= 'columns').transpose() \n",
    "mean_news.plot(kind='bar')\n",
    "plt.figure(figsize=(25,10))"
   ]
  },
  {
   "cell_type": "code",
   "execution_count": 6,
   "id": "741fd319",
   "metadata": {},
   "outputs": [
    {
     "name": "stdout",
     "output_type": "stream",
     "text": [
      "{'neg': 0.451, 'neu': 0.549, 'pos': 0.0, 'compound': -0.6249}\n"
     ]
    }
   ],
   "source": [
    "#testing VADER\n",
    "print(vader.polarity_scores('Apple is the worst company ever'))"
   ]
  },
  {
   "cell_type": "code",
   "execution_count": 7,
   "id": "ab42bda3",
   "metadata": {},
   "outputs": [
    {
     "name": "stdout",
     "output_type": "stream",
     "text": [
      "{'neg': 0.583, 'neu': 0.417, 'pos': 0.0, 'compound': -0.7906}\n"
     ]
    }
   ],
   "source": [
    "#testing VADER\n",
    "print(vader.polarity_scores('Apple is a bad company and will fail'))"
   ]
  },
  {
   "cell_type": "code",
   "execution_count": 8,
   "id": "60ded8a5",
   "metadata": {
    "tags": []
   },
   "outputs": [
    {
     "name": "stdout",
     "output_type": "stream",
     "text": [
      "{'neg': 0.278, 'neu': 0.397, 'pos': 0.325, 'compound': 0.1531}\n"
     ]
    }
   ],
   "source": [
    "#testing VADER\n",
    "print(vader.polarity_scores('Apple is a great company and will fail'))"
   ]
  },
  {
   "cell_type": "code",
   "execution_count": 53,
   "id": "09de4dcf",
   "metadata": {},
   "outputs": [],
   "source": [
    "#RNN LSTM MODEL\n",
    "\n",
    "# Pre-Processing for RNN input\n",
    "# Create Feature and Label sets\n",
    "# Creating the X and y vectors\n",
    "X = news[\"Headline\"].values\n",
    "y = news[\"compound\"].values"
   ]
  },
  {
   "cell_type": "code",
   "execution_count": 24,
   "id": "ed0484c6",
   "metadata": {},
   "outputs": [],
   "source": [
    "# Import Keras modules for data encoding #encode data as integer\n",
    "from tensorflow.keras.preprocessing.text import Tokenizer\n",
    "from tensorflow.keras.preprocessing.sequence import pad_sequences"
   ]
  },
  {
   "cell_type": "code",
   "execution_count": 25,
   "id": "930a2947",
   "metadata": {},
   "outputs": [],
   "source": [
    "# Create an instance of the Tokenizer and fit it with the X text data\n",
    "tokenizer = Tokenizer(lower=True)\n",
    "tokenizer.fit_on_texts(X)"
   ]
  },
  {
   "cell_type": "code",
   "execution_count": 26,
   "id": "8bb30ece",
   "metadata": {},
   "outputs": [
    {
     "name": "stdout",
     "output_type": "stream",
     "text": [
      "word: 'to', token: 1\n",
      "word: 'in', token: 2\n",
      "word: 'and', token: 3\n",
      "word: 'apple', token: 4\n",
      "word: 'the', token: 5\n"
     ]
    }
   ],
   "source": [
    "# Print the first five elements of the encoded vocabulary\n",
    "for token in list(tokenizer.word_index)[:5]:\n",
    "    print(f\"word: '{token}', token: {tokenizer.word_index[token]}\")"
   ]
  },
  {
   "cell_type": "code",
   "execution_count": 27,
   "id": "169c3744",
   "metadata": {},
   "outputs": [
    {
     "name": "stdout",
     "output_type": "stream",
     "text": [
      "**Text comment**\n",
      "{'Encrypted chat app Signal reveals flaws in Cellebrite equipment'}\n",
      "**Numerical sequence representation**\n",
      "[878, 879, 95, 384, 292, 880, 2, 881, 882]\n"
     ]
    }
   ],
   "source": [
    "# Transform the text data to numerical sequences\n",
    "X_seq = tokenizer.texts_to_sequences(X)\n",
    "\n",
    "# Contrast a sample numerical sequence with its text version\n",
    "print(\"**Text comment**\")\n",
    "print({X[0]})\n",
    "print(\"**Numerical sequence representation**\")\n",
    "print(X_seq[0])"
   ]
  },
  {
   "cell_type": "code",
   "execution_count": 28,
   "id": "4aee7b61",
   "metadata": {},
   "outputs": [],
   "source": [
    "# Padding sequences\n",
    "X_pad = pad_sequences(X_seq, maxlen=140, padding=\"post\")"
   ]
  },
  {
   "cell_type": "code",
   "execution_count": 29,
   "id": "b188da93",
   "metadata": {},
   "outputs": [
    {
     "data": {
      "text/plain": [
       "array([[ 878,  879,   95, ...,    0,    0,    0],\n",
       "       [  50,  549,   43, ...,    0,    0,    0],\n",
       "       [ 195,   51,  115, ...,    0,    0,    0],\n",
       "       ...,\n",
       "       [ 174,  330, 1919, ...,    0,    0,    0],\n",
       "       [  31,  134,  291, ...,    0,    0,    0],\n",
       "       [ 870,  871,   79, ...,    0,    0,    0]], dtype=int32)"
      ]
     },
     "execution_count": 29,
     "metadata": {},
     "output_type": "execute_result"
    }
   ],
   "source": [
    "X_pad"
   ]
  },
  {
   "cell_type": "code",
   "execution_count": 30,
   "id": "58956059",
   "metadata": {},
   "outputs": [],
   "source": [
    "# Creating training, validation, and testing sets\n",
    "from sklearn.model_selection import train_test_split\n",
    "\n",
    "X_train, X_test, y_train, y_test = train_test_split(X_pad, y, random_state=78)"
   ]
  },
  {
   "cell_type": "code",
   "execution_count": 31,
   "id": "11954c14",
   "metadata": {},
   "outputs": [],
   "source": [
    "# Import Keras modules for model creation\n",
    "from tensorflow.keras.models import Sequential\n",
    "from tensorflow.keras.layers import Embedding, LSTM, Dense"
   ]
  },
  {
   "cell_type": "code",
   "execution_count": 32,
   "id": "f9acd504",
   "metadata": {},
   "outputs": [],
   "source": [
    "# Model set-up\n",
    "vocabulary_size = len(tokenizer.word_counts.keys()) + 1\n",
    "max_words = 140\n",
    "embedding_size = 64"
   ]
  },
  {
   "cell_type": "code",
   "execution_count": 33,
   "id": "96867802",
   "metadata": {},
   "outputs": [],
   "source": [
    "# Define the LSTM RNN model\n",
    "model = Sequential()\n",
    "\n",
    "# Layer 1\n",
    "model.add(Embedding(vocabulary_size, embedding_size, input_length=max_words))\n",
    "\n",
    "# Layer 2\n",
    "model.add(LSTM(units=280))\n",
    "\n",
    "# Output layer\n",
    "model.add(Dense(1, activation=\"sigmoid\"))"
   ]
  },
  {
   "cell_type": "code",
   "execution_count": 80,
   "id": "6384e1cd",
   "metadata": {},
   "outputs": [],
   "source": [
    "# # Compile the model\n",
    "# model.compile(\n",
    "#     loss=\"binary_crossentropy\",\n",
    "#     optimizer=\"adam\"\n",
    "# )\n",
    "model.compile(\n",
    "    loss=\"binary_crossentropy\",\n",
    "    optimizer=\"adam\",\n",
    "    metrics=[\n",
    "        \"accuracy\",\n",
    "        tf.keras.metrics.TruePositives(name=\"tp\"),\n",
    "        tf.keras.metrics.TrueNegatives(name=\"tn\"),\n",
    "        tf.keras.metrics.FalsePositives(name=\"fp\"),\n",
    "        tf.keras.metrics.FalseNegatives(name=\"fn\"),\n",
    "        tf.keras.metrics.Precision(name=\"precision\"),\n",
    "        tf.keras.metrics.Recall(name=\"recall\"),\n",
    "        tf.keras.metrics.AUC(name=\"auc\"),\n",
    "    ],\n",
    ")"
   ]
  },
  {
   "cell_type": "code",
   "execution_count": 81,
   "id": "aaf2750d",
   "metadata": {},
   "outputs": [
    {
     "name": "stdout",
     "output_type": "stream",
     "text": [
      "Model: \"sequential\"\n",
      "_________________________________________________________________\n",
      "Layer (type)                 Output Shape              Param #   \n",
      "=================================================================\n",
      "embedding (Embedding)        (None, 140, 64)           123008    \n",
      "_________________________________________________________________\n",
      "lstm (LSTM)                  (None, 280)               386400    \n",
      "_________________________________________________________________\n",
      "dense (Dense)                (None, 1)                 281       \n",
      "=================================================================\n",
      "Total params: 509,689\n",
      "Trainable params: 509,689\n",
      "Non-trainable params: 0\n",
      "_________________________________________________________________\n"
     ]
    }
   ],
   "source": [
    "# Summarize the model\n",
    "model.summary()"
   ]
  },
  {
   "cell_type": "code",
   "execution_count": 41,
   "id": "d96c50af",
   "metadata": {},
   "outputs": [
    {
     "name": "stdout",
     "output_type": "stream",
     "text": [
      "Epoch 1/30\n",
      "1/1 [==============================] - 2s 2s/step - loss: 0.1553\n",
      "Epoch 2/30\n",
      "1/1 [==============================] - 1s 1s/step - loss: 0.1614\n",
      "Epoch 3/30\n",
      "1/1 [==============================] - 1s 1s/step - loss: 0.1620\n",
      "Epoch 4/30\n",
      "1/1 [==============================] - 1s 1s/step - loss: 0.1585\n",
      "Epoch 5/30\n",
      "1/1 [==============================] - 1s 1s/step - loss: 0.1549\n",
      "Epoch 6/30\n",
      "1/1 [==============================] - 1s 1s/step - loss: 0.1530\n",
      "Epoch 7/30\n",
      "1/1 [==============================] - 1s 1s/step - loss: 0.1528\n",
      "Epoch 8/30\n",
      "1/1 [==============================] - 1s 1s/step - loss: 0.1534\n",
      "Epoch 9/30\n",
      "1/1 [==============================] - 1s 1s/step - loss: 0.1542\n",
      "Epoch 10/30\n",
      "1/1 [==============================] - 1s 1s/step - loss: 0.1547\n",
      "Epoch 11/30\n",
      "1/1 [==============================] - 1s 1s/step - loss: 0.1548\n",
      "Epoch 12/30\n",
      "1/1 [==============================] - 1s 1s/step - loss: 0.1546\n",
      "Epoch 13/30\n",
      "1/1 [==============================] - 1s 1s/step - loss: 0.1541\n",
      "Epoch 14/30\n",
      "1/1 [==============================] - 1s 1s/step - loss: 0.1536\n",
      "Epoch 15/30\n",
      "1/1 [==============================] - 1s 1s/step - loss: 0.1531\n",
      "Epoch 16/30\n",
      "1/1 [==============================] - 1s 1s/step - loss: 0.1528\n",
      "Epoch 17/30\n",
      "1/1 [==============================] - 1s 1s/step - loss: 0.1527\n",
      "Epoch 18/30\n",
      "1/1 [==============================] - 1s 1s/step - loss: 0.1528\n",
      "Epoch 19/30\n",
      "1/1 [==============================] - 1s 1s/step - loss: 0.1530\n",
      "Epoch 20/30\n",
      "1/1 [==============================] - 1s 1s/step - loss: 0.1532\n",
      "Epoch 21/30\n",
      "1/1 [==============================] - 1s 1s/step - loss: 0.1533\n",
      "Epoch 22/30\n",
      "1/1 [==============================] - 2s 2s/step - loss: 0.1534\n",
      "Epoch 23/30\n",
      "1/1 [==============================] - 1s 1s/step - loss: 0.1533\n",
      "Epoch 24/30\n",
      "1/1 [==============================] - 1s 1s/step - loss: 0.1532\n",
      "Epoch 25/30\n",
      "1/1 [==============================] - 1s 1s/step - loss: 0.1530\n",
      "Epoch 26/30\n",
      "1/1 [==============================] - 1s 1s/step - loss: 0.1529\n",
      "Epoch 27/30\n",
      "1/1 [==============================] - 1s 1s/step - loss: 0.1528\n",
      "Epoch 28/30\n",
      "1/1 [==============================] - 1s 1s/step - loss: 0.1527\n",
      "Epoch 29/30\n",
      "1/1 [==============================] - 1s 1s/step - loss: 0.1527\n",
      "Epoch 30/30\n",
      "1/1 [==============================] - 1s 1s/step - loss: 0.1528\n"
     ]
    },
    {
     "data": {
      "text/plain": [
       "<tensorflow.python.keras.callbacks.History at 0x7fa087168220>"
      ]
     },
     "execution_count": 41,
     "metadata": {},
     "output_type": "execute_result"
    }
   ],
   "source": [
    "# Training the model\n",
    "batch_size = 1000\n",
    "model.fit(\n",
    "    X_train,\n",
    "    y_train,\n",
    "    epochs=30,\n",
    "    batch_size=batch_size,\n",
    "    verbose=1,\n",
    ")"
   ]
  },
  {
   "cell_type": "code",
   "execution_count": 85,
   "id": "722b6d41",
   "metadata": {},
   "outputs": [
    {
     "name": "stdout",
     "output_type": "stream",
     "text": [
      "5/5 [==============================] - 3s 65ms/step - loss: 0.2814 - accuracy: 0.4124 - tp: 0.0000e+00 - tn: 42.1667 - fp: 0.0000e+00 - fn: 61.1667 - precision: 0.0000e+00 - recall: 0.0000e+00 - auc: 0.5000\n"
     ]
    },
    {
     "ename": "NameError",
     "evalue": "name 'score' is not defined",
     "output_type": "error",
     "traceback": [
      "\u001b[0;31m---------------------------------------------------------------------------\u001b[0m",
      "\u001b[0;31mNameError\u001b[0m                                 Traceback (most recent call last)",
      "\u001b[0;32m<ipython-input-85-71e69650000f>\u001b[0m in \u001b[0;36m<module>\u001b[0;34m\u001b[0m\n\u001b[1;32m      1\u001b[0m \u001b[0;31m#evaluate the model\u001b[0m\u001b[0;34m\u001b[0m\u001b[0;34m\u001b[0m\u001b[0;34m\u001b[0m\u001b[0m\n\u001b[1;32m      2\u001b[0m \u001b[0mmodel\u001b[0m\u001b[0;34m.\u001b[0m\u001b[0mevaluate\u001b[0m\u001b[0;34m(\u001b[0m\u001b[0mX_test\u001b[0m\u001b[0;34m,\u001b[0m \u001b[0my_test\u001b[0m\u001b[0;34m)\u001b[0m\u001b[0;34m\u001b[0m\u001b[0;34m\u001b[0m\u001b[0m\n\u001b[0;32m----> 3\u001b[0;31m \u001b[0mprint\u001b[0m\u001b[0;34m(\u001b[0m\u001b[0;34m'Test loss:'\u001b[0m\u001b[0;34m,\u001b[0m \u001b[0mscore\u001b[0m\u001b[0;34m[\u001b[0m\u001b[0;36m0\u001b[0m\u001b[0;34m]\u001b[0m\u001b[0;34m)\u001b[0m\u001b[0;34m\u001b[0m\u001b[0;34m\u001b[0m\u001b[0m\n\u001b[0m\u001b[1;32m      4\u001b[0m \u001b[0mprint\u001b[0m\u001b[0;34m(\u001b[0m\u001b[0;34m'Test accuracy:'\u001b[0m\u001b[0;34m,\u001b[0m \u001b[0mscore\u001b[0m\u001b[0;34m[\u001b[0m\u001b[0;36m1\u001b[0m\u001b[0;34m]\u001b[0m\u001b[0;34m)\u001b[0m\u001b[0;34m\u001b[0m\u001b[0;34m\u001b[0m\u001b[0m\n",
      "\u001b[0;31mNameError\u001b[0m: name 'score' is not defined"
     ]
    }
   ],
   "source": [
    "#evaluate the model\n",
    "model.evaluate(X_test, y_test)\n",
    "print('Test loss:', score[0]) \n",
    "print('Test accuracy:', score[1])"
   ]
  },
  {
   "cell_type": "code",
   "execution_count": 84,
   "id": "9200573a",
   "metadata": {},
   "outputs": [
    {
     "ename": "ValueError",
     "evalue": "Classification metrics can't handle a mix of multiclass-multioutput and continuous targets",
     "output_type": "error",
     "traceback": [
      "\u001b[0;31m---------------------------------------------------------------------------\u001b[0m",
      "\u001b[0;31mValueError\u001b[0m                                Traceback (most recent call last)",
      "\u001b[0;32m<ipython-input-84-24278eeca336>\u001b[0m in \u001b[0;36m<module>\u001b[0;34m\u001b[0m\n\u001b[1;32m      2\u001b[0m \u001b[0;32mfrom\u001b[0m \u001b[0msklearn\u001b[0m\u001b[0;34m.\u001b[0m\u001b[0mmetrics\u001b[0m \u001b[0;32mimport\u001b[0m \u001b[0maccuracy_score\u001b[0m\u001b[0;34m\u001b[0m\u001b[0;34m\u001b[0m\u001b[0m\n\u001b[1;32m      3\u001b[0m \u001b[0;34m\u001b[0m\u001b[0m\n\u001b[0;32m----> 4\u001b[0;31m \u001b[0mprint\u001b[0m\u001b[0;34m(\u001b[0m\u001b[0;34m\"RNN LSTM Accuracy %.2f\"\u001b[0m \u001b[0;34m%\u001b[0m \u001b[0;34m(\u001b[0m\u001b[0maccuracy_score\u001b[0m\u001b[0;34m(\u001b[0m\u001b[0mX_test\u001b[0m\u001b[0;34m,\u001b[0m \u001b[0my_test\u001b[0m\u001b[0;34m)\u001b[0m\u001b[0;34m)\u001b[0m\u001b[0;34m)\u001b[0m\u001b[0;34m\u001b[0m\u001b[0;34m\u001b[0m\u001b[0m\n\u001b[0m",
      "\u001b[0;32m~/opt/anaconda3/lib/python3.8/site-packages/sklearn/utils/validation.py\u001b[0m in \u001b[0;36minner_f\u001b[0;34m(*args, **kwargs)\u001b[0m\n\u001b[1;32m     61\u001b[0m             \u001b[0mextra_args\u001b[0m \u001b[0;34m=\u001b[0m \u001b[0mlen\u001b[0m\u001b[0;34m(\u001b[0m\u001b[0margs\u001b[0m\u001b[0;34m)\u001b[0m \u001b[0;34m-\u001b[0m \u001b[0mlen\u001b[0m\u001b[0;34m(\u001b[0m\u001b[0mall_args\u001b[0m\u001b[0;34m)\u001b[0m\u001b[0;34m\u001b[0m\u001b[0;34m\u001b[0m\u001b[0m\n\u001b[1;32m     62\u001b[0m             \u001b[0;32mif\u001b[0m \u001b[0mextra_args\u001b[0m \u001b[0;34m<=\u001b[0m \u001b[0;36m0\u001b[0m\u001b[0;34m:\u001b[0m\u001b[0;34m\u001b[0m\u001b[0;34m\u001b[0m\u001b[0m\n\u001b[0;32m---> 63\u001b[0;31m                 \u001b[0;32mreturn\u001b[0m \u001b[0mf\u001b[0m\u001b[0;34m(\u001b[0m\u001b[0;34m*\u001b[0m\u001b[0margs\u001b[0m\u001b[0;34m,\u001b[0m \u001b[0;34m**\u001b[0m\u001b[0mkwargs\u001b[0m\u001b[0;34m)\u001b[0m\u001b[0;34m\u001b[0m\u001b[0;34m\u001b[0m\u001b[0m\n\u001b[0m\u001b[1;32m     64\u001b[0m \u001b[0;34m\u001b[0m\u001b[0m\n\u001b[1;32m     65\u001b[0m             \u001b[0;31m# extra_args > 0\u001b[0m\u001b[0;34m\u001b[0m\u001b[0;34m\u001b[0m\u001b[0;34m\u001b[0m\u001b[0m\n",
      "\u001b[0;32m~/opt/anaconda3/lib/python3.8/site-packages/sklearn/metrics/_classification.py\u001b[0m in \u001b[0;36maccuracy_score\u001b[0;34m(y_true, y_pred, normalize, sample_weight)\u001b[0m\n\u001b[1;32m    200\u001b[0m \u001b[0;34m\u001b[0m\u001b[0m\n\u001b[1;32m    201\u001b[0m     \u001b[0;31m# Compute accuracy for each possible representation\u001b[0m\u001b[0;34m\u001b[0m\u001b[0;34m\u001b[0m\u001b[0;34m\u001b[0m\u001b[0m\n\u001b[0;32m--> 202\u001b[0;31m     \u001b[0my_type\u001b[0m\u001b[0;34m,\u001b[0m \u001b[0my_true\u001b[0m\u001b[0;34m,\u001b[0m \u001b[0my_pred\u001b[0m \u001b[0;34m=\u001b[0m \u001b[0m_check_targets\u001b[0m\u001b[0;34m(\u001b[0m\u001b[0my_true\u001b[0m\u001b[0;34m,\u001b[0m \u001b[0my_pred\u001b[0m\u001b[0;34m)\u001b[0m\u001b[0;34m\u001b[0m\u001b[0;34m\u001b[0m\u001b[0m\n\u001b[0m\u001b[1;32m    203\u001b[0m     \u001b[0mcheck_consistent_length\u001b[0m\u001b[0;34m(\u001b[0m\u001b[0my_true\u001b[0m\u001b[0;34m,\u001b[0m \u001b[0my_pred\u001b[0m\u001b[0;34m,\u001b[0m \u001b[0msample_weight\u001b[0m\u001b[0;34m)\u001b[0m\u001b[0;34m\u001b[0m\u001b[0;34m\u001b[0m\u001b[0m\n\u001b[1;32m    204\u001b[0m     \u001b[0;32mif\u001b[0m \u001b[0my_type\u001b[0m\u001b[0;34m.\u001b[0m\u001b[0mstartswith\u001b[0m\u001b[0;34m(\u001b[0m\u001b[0;34m'multilabel'\u001b[0m\u001b[0;34m)\u001b[0m\u001b[0;34m:\u001b[0m\u001b[0;34m\u001b[0m\u001b[0;34m\u001b[0m\u001b[0m\n",
      "\u001b[0;32m~/opt/anaconda3/lib/python3.8/site-packages/sklearn/metrics/_classification.py\u001b[0m in \u001b[0;36m_check_targets\u001b[0;34m(y_true, y_pred)\u001b[0m\n\u001b[1;32m     90\u001b[0m \u001b[0;34m\u001b[0m\u001b[0m\n\u001b[1;32m     91\u001b[0m     \u001b[0;32mif\u001b[0m \u001b[0mlen\u001b[0m\u001b[0;34m(\u001b[0m\u001b[0my_type\u001b[0m\u001b[0;34m)\u001b[0m \u001b[0;34m>\u001b[0m \u001b[0;36m1\u001b[0m\u001b[0;34m:\u001b[0m\u001b[0;34m\u001b[0m\u001b[0;34m\u001b[0m\u001b[0m\n\u001b[0;32m---> 92\u001b[0;31m         raise ValueError(\"Classification metrics can't handle a mix of {0} \"\n\u001b[0m\u001b[1;32m     93\u001b[0m                          \"and {1} targets\".format(type_true, type_pred))\n\u001b[1;32m     94\u001b[0m \u001b[0;34m\u001b[0m\u001b[0m\n",
      "\u001b[0;31mValueError\u001b[0m: Classification metrics can't handle a mix of multiclass-multioutput and continuous targets"
     ]
    }
   ],
   "source": [
    "# Accuracy\n",
    "from sklearn.metrics import accuracy_score\n",
    "\n",
    "print(\"RNN LSTM Accuracy %.2f\" % (accuracy_score(X_test, y_test)))"
   ]
  },
  {
   "cell_type": "code",
   "execution_count": 73,
   "id": "441bb43f",
   "metadata": {},
   "outputs": [],
   "source": [
    "# Make sentiment predictions #predict using testing data and model\n",
    "predicted = (model.predict(X_test[:10])>0.5).astype(\"int32\")"
   ]
  },
  {
   "cell_type": "code",
   "execution_count": 74,
   "id": "5d7cd8b7",
   "metadata": {},
   "outputs": [],
   "source": [
    "#compares the actual text from original dataframe to the predicted values\n",
    "_, X_test_original, _, _ = train_test_split(X, y, random_state=42)"
   ]
  },
  {
   "cell_type": "code",
   "execution_count": 69,
   "id": "2a7f3a4a",
   "metadata": {},
   "outputs": [
    {
     "data": {
      "text/html": [
       "<div>\n",
       "<style scoped>\n",
       "    .dataframe tbody tr th:only-of-type {\n",
       "        vertical-align: middle;\n",
       "    }\n",
       "\n",
       "    .dataframe tbody tr th {\n",
       "        vertical-align: top;\n",
       "    }\n",
       "\n",
       "    .dataframe thead th {\n",
       "        text-align: right;\n",
       "    }\n",
       "</style>\n",
       "<table border=\"1\" class=\"dataframe\">\n",
       "  <thead>\n",
       "    <tr style=\"text-align: right;\">\n",
       "      <th></th>\n",
       "      <th>Text</th>\n",
       "      <th>Actual</th>\n",
       "      <th>Predicted</th>\n",
       "    </tr>\n",
       "  </thead>\n",
       "  <tbody>\n",
       "    <tr>\n",
       "      <th>0</th>\n",
       "      <td>Tesla comes under growing China pressure after...</td>\n",
       "      <td>0.1779</td>\n",
       "      <td>0</td>\n",
       "    </tr>\n",
       "    <tr>\n",
       "      <th>1</th>\n",
       "      <td>Wendy's CEO: We are on our way to 8,000 restau...</td>\n",
       "      <td>0.0000</td>\n",
       "      <td>0</td>\n",
       "    </tr>\n",
       "    <tr>\n",
       "      <th>2</th>\n",
       "      <td>ExxonMobil (XOM) to Conduct Testing of Lower-C...</td>\n",
       "      <td>0.4854</td>\n",
       "      <td>0</td>\n",
       "    </tr>\n",
       "    <tr>\n",
       "      <th>3</th>\n",
       "      <td>Apple Introduces Apple Card Family, Enabling P...</td>\n",
       "      <td>-0.6124</td>\n",
       "      <td>0</td>\n",
       "    </tr>\n",
       "    <tr>\n",
       "      <th>4</th>\n",
       "      <td>How Investors Maxed Out Gains From This Record...</td>\n",
       "      <td>0.0000</td>\n",
       "      <td>0</td>\n",
       "    </tr>\n",
       "    <tr>\n",
       "      <th>5</th>\n",
       "      <td>Google Pledges More Than $2.5M For COVID-19 Va...</td>\n",
       "      <td>0.0000</td>\n",
       "      <td>0</td>\n",
       "    </tr>\n",
       "    <tr>\n",
       "      <th>6</th>\n",
       "      <td>Dow Rallies 200 Points As Netflix Plunges On E...</td>\n",
       "      <td>0.0000</td>\n",
       "      <td>0</td>\n",
       "    </tr>\n",
       "    <tr>\n",
       "      <th>7</th>\n",
       "      <td>Jack in the Box CEO on the companys best quart...</td>\n",
       "      <td>0.0000</td>\n",
       "      <td>0</td>\n",
       "    </tr>\n",
       "    <tr>\n",
       "      <th>8</th>\n",
       "      <td>UPDATE 3-Apple announces AirTags for lost item...</td>\n",
       "      <td>0.0000</td>\n",
       "      <td>0</td>\n",
       "    </tr>\n",
       "    <tr>\n",
       "      <th>9</th>\n",
       "      <td>Walmart China, Dada Group's JDDJ Extend Omni-C...</td>\n",
       "      <td>0.0000</td>\n",
       "      <td>0</td>\n",
       "    </tr>\n",
       "  </tbody>\n",
       "</table>\n",
       "</div>"
      ],
      "text/plain": [
       "                                                Text  Actual  Predicted\n",
       "0  Tesla comes under growing China pressure after...  0.1779          0\n",
       "1  Wendy's CEO: We are on our way to 8,000 restau...  0.0000          0\n",
       "2  ExxonMobil (XOM) to Conduct Testing of Lower-C...  0.4854          0\n",
       "3  Apple Introduces Apple Card Family, Enabling P... -0.6124          0\n",
       "4  How Investors Maxed Out Gains From This Record...  0.0000          0\n",
       "5  Google Pledges More Than $2.5M For COVID-19 Va...  0.0000          0\n",
       "6  Dow Rallies 200 Points As Netflix Plunges On E...  0.0000          0\n",
       "7  Jack in the Box CEO on the companys best quart...  0.0000          0\n",
       "8  UPDATE 3-Apple announces AirTags for lost item...  0.0000          0\n",
       "9  Walmart China, Dada Group's JDDJ Extend Omni-C...  0.0000          0"
      ]
     },
     "execution_count": 69,
     "metadata": {},
     "output_type": "execute_result"
    }
   ],
   "source": [
    "# Create a DataFrame of Real and Predicted values\n",
    "sentiments = pd.DataFrame({\"Text\": X_test_original[:10], \"Actual\": y_test[:10], \"Predicted\": predicted2.ravel()})\n",
    "sentiments"
   ]
  },
  {
   "cell_type": "code",
   "execution_count": 76,
   "id": "9a7a1fae",
   "metadata": {},
   "outputs": [
    {
     "data": {
      "text/plain": [
       "<AxesSubplot:>"
      ]
     },
     "execution_count": 76,
     "metadata": {},
     "output_type": "execute_result"
    },
    {
     "data": {
      "image/png": "[encoded data removed]",
      "text/plain": [
       "<Figure size 432x288 with 1 Axes>"
      ]
     },
     "metadata": {
      "needs_background": "light"
     },
     "output_type": "display_data"
    }
   ],
   "source": [
    "sentiments.plot()"
   ]
  },
  {
   "cell_type": "code",
   "execution_count": null,
   "id": "a51b4a66",
   "metadata": {},
   "outputs": [],
   "source": [
    "#"
   ]
  }
 ],
 "metadata": {
  "kernelspec": {
   "display_name": "Python 3",
   "language": "python",
   "name": "python3"
  },
  "language_info": {
   "codemirror_mode": {
    "name": "ipython",
    "version": 3
   },
   "file_extension": ".py",
   "mimetype": "text/x-python",
   "name": "python",
   "nbconvert_exporter": "python",
   "pygments_lexer": "ipython3",
   "version": "3.8.2"
  }
 },
 "nbformat": 4,
 "nbformat_minor": 5
}
